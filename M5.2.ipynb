{
 "cells": [
  {
   "cell_type": "code",
   "execution_count": 1,
   "id": "e4cb8803-75aa-40f2-ab41-f9d5b25d3f02",
   "metadata": {},
   "outputs": [],
   "source": [
    "import pandas"
   ]
  },
  {
   "cell_type": "code",
   "execution_count": 2,
   "id": "24894a17-b5db-4e9d-88d3-0d470edd5551",
   "metadata": {},
   "outputs": [
    {
     "name": "stdout",
     "output_type": "stream",
     "text": [
      " Volume in drive C is Windows\n",
      " Volume Serial Number is 7A74-7975\n",
      "\n",
      " Directory of C:\\Users\\cobbl\\Desktop\\DSS_UMSL\\Jup\n",
      "\n",
      "02/22/2025  03:03 PM    <DIR>          .\n",
      "02/20/2025  07:07 PM    <DIR>          ..\n",
      "02/22/2025  03:02 PM    <DIR>          .ipynb_checkpoints\n",
      "02/03/2025  08:42 PM           256,928 Crowdfunding_data_1000_projects.csv\n",
      "02/03/2025  08:33 PM           194,327 Crowdfunding_data_1000_projects.xlsx\n",
      "02/20/2025  07:34 PM           668,414 Decision Tree using Crowdfunding data.ipynb\n",
      "02/20/2025  07:09 PM            56,533 Decision_Tree_using_dummy_data.ipynb\n",
      "02/20/2025  07:04 PM             9,330 dummy_data.xlsx\n",
      "02/22/2025  03:03 PM             9,342 dummy_data_v2.xlsx\n",
      "02/03/2025  09:32 PM            53,190 M3-1.ipynb\n",
      "02/10/2025  06:03 PM           176,931 M4_1.ipynb\n",
      "02/20/2025  08:28 PM         1,746,664 M5.1.ipynb\n",
      "02/22/2025  03:02 PM               337 M5.2.ipynb\n",
      "02/20/2025  07:12 PM           194,327 M5_Crowdfunding_data_1000_projects.xlsx\n",
      "02/03/2025  08:44 PM           261,561 modified_data.csv\n",
      "02/03/2025  08:46 PM           257,670 modified_file.csv\n",
      "02/03/2025  08:50 PM             5,480 multiple_filters.xlsx\n",
      "02/03/2025  08:47 PM            44,181 Pandas_part_1.ipynb\n",
      "02/03/2025  09:28 PM           112,727 Pandas_part_2.ipynb\n",
      "02/03/2025  08:55 PM            37,336 Pandas_part_3.ipynb\n",
      "02/10/2025  06:03 PM           176,015 Train_test_split.ipynb\n",
      "              18 File(s)      4,261,293 bytes\n",
      "               3 Dir(s)  389,320,937,472 bytes free\n"
     ]
    }
   ],
   "source": [
    "%ls"
   ]
  },
  {
   "cell_type": "code",
   "execution_count": 3,
   "id": "94fbebbf-59d3-4c36-82fb-0d110a4b7294",
   "metadata": {},
   "outputs": [],
   "source": [
    "data=pandas.read_excel('dummy_data_v2.xlsx')"
   ]
  },
  {
   "cell_type": "code",
   "execution_count": 4,
   "id": "df92f54b-e441-44f6-b394-a3e4b6167da3",
   "metadata": {},
   "outputs": [
    {
     "data": {
      "text/html": [
       "<div>\n",
       "<style scoped>\n",
       "    .dataframe tbody tr th:only-of-type {\n",
       "        vertical-align: middle;\n",
       "    }\n",
       "\n",
       "    .dataframe tbody tr th {\n",
       "        vertical-align: top;\n",
       "    }\n",
       "\n",
       "    .dataframe thead th {\n",
       "        text-align: right;\n",
       "    }\n",
       "</style>\n",
       "<table border=\"1\" class=\"dataframe\">\n",
       "  <thead>\n",
       "    <tr style=\"text-align: right;\">\n",
       "      <th></th>\n",
       "      <th>X0</th>\n",
       "      <th>X1</th>\n",
       "      <th>Y</th>\n",
       "    </tr>\n",
       "  </thead>\n",
       "  <tbody>\n",
       "    <tr>\n",
       "      <th>0</th>\n",
       "      <td>6</td>\n",
       "      <td>15</td>\n",
       "      <td>1</td>\n",
       "    </tr>\n",
       "    <tr>\n",
       "      <th>1</th>\n",
       "      <td>9</td>\n",
       "      <td>7</td>\n",
       "      <td>1</td>\n",
       "    </tr>\n",
       "    <tr>\n",
       "      <th>2</th>\n",
       "      <td>6</td>\n",
       "      <td>9</td>\n",
       "      <td>1</td>\n",
       "    </tr>\n",
       "    <tr>\n",
       "      <th>3</th>\n",
       "      <td>6</td>\n",
       "      <td>15</td>\n",
       "      <td>1</td>\n",
       "    </tr>\n",
       "    <tr>\n",
       "      <th>4</th>\n",
       "      <td>7</td>\n",
       "      <td>3</td>\n",
       "      <td>0</td>\n",
       "    </tr>\n",
       "    <tr>\n",
       "      <th>5</th>\n",
       "      <td>2</td>\n",
       "      <td>5</td>\n",
       "      <td>0</td>\n",
       "    </tr>\n",
       "    <tr>\n",
       "      <th>6</th>\n",
       "      <td>10</td>\n",
       "      <td>10</td>\n",
       "      <td>1</td>\n",
       "    </tr>\n",
       "    <tr>\n",
       "      <th>7</th>\n",
       "      <td>2</td>\n",
       "      <td>2</td>\n",
       "      <td>0</td>\n",
       "    </tr>\n",
       "    <tr>\n",
       "      <th>8</th>\n",
       "      <td>7</td>\n",
       "      <td>8</td>\n",
       "      <td>1</td>\n",
       "    </tr>\n",
       "    <tr>\n",
       "      <th>9</th>\n",
       "      <td>7</td>\n",
       "      <td>5</td>\n",
       "      <td>0</td>\n",
       "    </tr>\n",
       "    <tr>\n",
       "      <th>10</th>\n",
       "      <td>9</td>\n",
       "      <td>10</td>\n",
       "      <td>1</td>\n",
       "    </tr>\n",
       "    <tr>\n",
       "      <th>11</th>\n",
       "      <td>6</td>\n",
       "      <td>5</td>\n",
       "      <td>0</td>\n",
       "    </tr>\n",
       "    <tr>\n",
       "      <th>12</th>\n",
       "      <td>10</td>\n",
       "      <td>7</td>\n",
       "      <td>1</td>\n",
       "    </tr>\n",
       "    <tr>\n",
       "      <th>13</th>\n",
       "      <td>2</td>\n",
       "      <td>14</td>\n",
       "      <td>1</td>\n",
       "    </tr>\n",
       "    <tr>\n",
       "      <th>14</th>\n",
       "      <td>7</td>\n",
       "      <td>6</td>\n",
       "      <td>1</td>\n",
       "    </tr>\n",
       "    <tr>\n",
       "      <th>15</th>\n",
       "      <td>7</td>\n",
       "      <td>15</td>\n",
       "      <td>1</td>\n",
       "    </tr>\n",
       "    <tr>\n",
       "      <th>16</th>\n",
       "      <td>8</td>\n",
       "      <td>9</td>\n",
       "      <td>1</td>\n",
       "    </tr>\n",
       "    <tr>\n",
       "      <th>17</th>\n",
       "      <td>10</td>\n",
       "      <td>2</td>\n",
       "      <td>0</td>\n",
       "    </tr>\n",
       "    <tr>\n",
       "      <th>18</th>\n",
       "      <td>5</td>\n",
       "      <td>14</td>\n",
       "      <td>1</td>\n",
       "    </tr>\n",
       "    <tr>\n",
       "      <th>19</th>\n",
       "      <td>2</td>\n",
       "      <td>7</td>\n",
       "      <td>1</td>\n",
       "    </tr>\n",
       "  </tbody>\n",
       "</table>\n",
       "</div>"
      ],
      "text/plain": [
       "    X0  X1  Y\n",
       "0    6  15  1\n",
       "1    9   7  1\n",
       "2    6   9  1\n",
       "3    6  15  1\n",
       "4    7   3  0\n",
       "5    2   5  0\n",
       "6   10  10  1\n",
       "7    2   2  0\n",
       "8    7   8  1\n",
       "9    7   5  0\n",
       "10   9  10  1\n",
       "11   6   5  0\n",
       "12  10   7  1\n",
       "13   2  14  1\n",
       "14   7   6  1\n",
       "15   7  15  1\n",
       "16   8   9  1\n",
       "17  10   2  0\n",
       "18   5  14  1\n",
       "19   2   7  1"
      ]
     },
     "execution_count": 4,
     "metadata": {},
     "output_type": "execute_result"
    }
   ],
   "source": [
    "data"
   ]
  },
  {
   "cell_type": "code",
   "execution_count": 5,
   "id": "5e9dfd9c-9370-4709-98a3-dc8c2c7afd4e",
   "metadata": {},
   "outputs": [],
   "source": [
    "from sklearn import tree"
   ]
  },
  {
   "cell_type": "code",
   "execution_count": 6,
   "id": "f8719c45-d0a9-4b86-a68a-2d1c925f0e77",
   "metadata": {},
   "outputs": [],
   "source": [
    "import matplotlib as plt"
   ]
  },
  {
   "cell_type": "code",
   "execution_count": 7,
   "id": "ddcb100d-5b22-4108-90c7-2869ec526cb8",
   "metadata": {},
   "outputs": [],
   "source": [
    "clf = tree.DecisionTreeClassifier()"
   ]
  },
  {
   "cell_type": "code",
   "execution_count": 8,
   "id": "f48ade44-ba7f-49a8-b313-febee40d5090",
   "metadata": {},
   "outputs": [],
   "source": [
    "clf = clf.fit(data[['X0','X1']], data[['Y']])"
   ]
  },
  {
   "cell_type": "code",
   "execution_count": 9,
   "id": "6f5e839a-090f-4514-84e9-df7d2f6f1301",
   "metadata": {},
   "outputs": [
    {
     "data": {
      "text/plain": [
       "[Text(0.5, 0.75, 'x[1] <= 5.5\\ngini = 0.42\\nsamples = 20\\nvalue = [6, 14]'),\n",
       " Text(0.25, 0.25, 'gini = 0.0\\nsamples = 6\\nvalue = [6, 0]'),\n",
       " Text(0.375, 0.5, 'True  '),\n",
       " Text(0.75, 0.25, 'gini = 0.0\\nsamples = 14\\nvalue = [0, 14]'),\n",
       " Text(0.625, 0.5, '  False')]"
      ]
     },
     "execution_count": 9,
     "metadata": {},
     "output_type": "execute_result"
    },
    {
     "data": {
      "image/png": "[encoded data removed]",
      "text/plain": [
       "<Figure size 640x480 with 1 Axes>"
      ]
     },
     "metadata": {},
     "output_type": "display_data"
    }
   ],
   "source": [
    "tree.plot_tree(clf.fit(data[['X0','X1']], data[['Y']])) "
   ]
  },
  {
   "cell_type": "code",
   "execution_count": 10,
   "id": "cf660b3c-37f3-47e5-8c75-8692e3f9297d",
   "metadata": {},
   "outputs": [],
   "source": [
    "import os\n",
    "os.environ[\"PATH\"] += os.pathsep + 'C:\\\\Users\\\\cobbl\\\\Desktop\\\\DSS_UMSL\\\\Graphviz\\\\bin'"
   ]
  },
  {
   "cell_type": "code",
   "execution_count": 11,
   "id": "91fee46b-f169-46ff-bd99-735579821de8",
   "metadata": {},
   "outputs": [],
   "source": [
    "import graphviz"
   ]
  },
  {
   "cell_type": "code",
   "execution_count": 12,
   "id": "3f5e9361-71c5-4b12-9b1b-cfc6a6657f37",
   "metadata": {},
   "outputs": [
    {
     "data": {
      "image/svg+xml": [
       "<?xml version=\"1.0\" encoding=\"UTF-8\" standalone=\"no\"?>\n",
       "<!DOCTYPE svg PUBLIC \"-//W3C//DTD SVG 1.1//EN\"\n",
       " \"http://www.w3.org/Graphics/SVG/1.1/DTD/svg11.dtd\">\n",
       "<!-- Generated by graphviz version 12.2.1 (20241206.2353)\n",
       " -->\n",
       "<!-- Title: Tree Pages: 1 -->\n",
       "<svg width=\"222pt\" height=\"163pt\"\n",
       " viewBox=\"0.00 0.00 221.75 163.25\" xmlns=\"http://www.w3.org/2000/svg\" xmlns:xlink=\"http://www.w3.org/1999/xlink\">\n",
       "<g id=\"graph0\" class=\"graph\" transform=\"scale(1 1) rotate(0) translate(4 159.25)\">\n",
       "<title>Tree</title>\n",
       "<polygon fill=\"white\" stroke=\"none\" points=\"-4,4 -4,-159.25 217.75,-159.25 217.75,4 -4,4\"/>\n",
       "<!-- 0 -->\n",
       "<g id=\"node1\" class=\"node\">\n",
       "<title>0</title>\n",
       "<path fill=\"#8ec7f0\" stroke=\"black\" d=\"M143.75,-155.25C143.75,-155.25 66.25,-155.25 66.25,-155.25 60.25,-155.25 54.25,-149.25 54.25,-143.25 54.25,-143.25 54.25,-103.25 54.25,-103.25 54.25,-97.25 60.25,-91.25 66.25,-91.25 66.25,-91.25 143.75,-91.25 143.75,-91.25 149.75,-91.25 155.75,-97.25 155.75,-103.25 155.75,-103.25 155.75,-143.25 155.75,-143.25 155.75,-149.25 149.75,-155.25 143.75,-155.25\"/>\n",
       "<text text-anchor=\"start\" x=\"81.38\" y=\"-138.95\" font-family=\"Helvetica,sans-Serif\" font-size=\"14.00\">x</text>\n",
       "<text text-anchor=\"start\" x=\"88.12\" y=\"-138.95\" font-family=\"Helvetica,sans-Serif\" baseline-shift=\"sub\" font-size=\"14.00\">1</text>\n",
       "<text text-anchor=\"start\" x=\"94.88\" y=\"-138.95\" font-family=\"Helvetica,sans-Serif\" font-size=\"14.00\"> ≤ 5.5</text>\n",
       "<text text-anchor=\"start\" x=\"73.5\" y=\"-124.95\" font-family=\"Helvetica,sans-Serif\" font-size=\"14.00\">gini = 0.42</text>\n",
       "<text text-anchor=\"start\" x=\"64.12\" y=\"-110.95\" font-family=\"Helvetica,sans-Serif\" font-size=\"14.00\">samples = 20</text>\n",
       "<text text-anchor=\"start\" x=\"62.25\" y=\"-96.95\" font-family=\"Helvetica,sans-Serif\" font-size=\"14.00\">value = [6, 14]</text>\n",
       "</g>\n",
       "<!-- 1 -->\n",
       "<g id=\"node2\" class=\"node\">\n",
       "<title>1</title>\n",
       "<path fill=\"#e58139\" stroke=\"black\" d=\"M82,-55.25C82,-55.25 12,-55.25 12,-55.25 6,-55.25 0,-49.25 0,-43.25 0,-43.25 0,-12 0,-12 0,-6 6,0 12,0 12,0 82,0 82,0 88,0 94,-6 94,-12 94,-12 94,-43.25 94,-43.25 94,-49.25 88,-55.25 82,-55.25\"/>\n",
       "<text text-anchor=\"start\" x=\"19.25\" y=\"-37.95\" font-family=\"Helvetica,sans-Serif\" font-size=\"14.00\">gini = 0.0</text>\n",
       "<text text-anchor=\"start\" x=\"9.88\" y=\"-22.2\" font-family=\"Helvetica,sans-Serif\" font-size=\"14.00\">samples = 6</text>\n",
       "<text text-anchor=\"start\" x=\"8\" y=\"-6.45\" font-family=\"Helvetica,sans-Serif\" font-size=\"14.00\">value = [6, 0]</text>\n",
       "</g>\n",
       "<!-- 0&#45;&gt;1 -->\n",
       "<g id=\"edge1\" class=\"edge\">\n",
       "<title>0&#45;&gt;1</title>\n",
       "<path fill=\"none\" stroke=\"black\" d=\"M85.53,-90.81C80.46,-82.64 74.97,-73.77 69.75,-65.35\"/>\n",
       "<polygon fill=\"black\" stroke=\"black\" points=\"72.84,-63.69 64.6,-57.04 66.89,-67.38 72.84,-63.69\"/>\n",
       "<text text-anchor=\"middle\" x=\"58.09\" y=\"-74.66\" font-family=\"Helvetica,sans-Serif\" font-size=\"14.00\">True</text>\n",
       "</g>\n",
       "<!-- 2 -->\n",
       "<g id=\"node3\" class=\"node\">\n",
       "<title>2</title>\n",
       "<path fill=\"#399de5\" stroke=\"black\" d=\"M201.75,-55.25C201.75,-55.25 124.25,-55.25 124.25,-55.25 118.25,-55.25 112.25,-49.25 112.25,-43.25 112.25,-43.25 112.25,-12 112.25,-12 112.25,-6 118.25,0 124.25,0 124.25,0 201.75,0 201.75,0 207.75,0 213.75,-6 213.75,-12 213.75,-12 213.75,-43.25 213.75,-43.25 213.75,-49.25 207.75,-55.25 201.75,-55.25\"/>\n",
       "<text text-anchor=\"start\" x=\"135.25\" y=\"-37.95\" font-family=\"Helvetica,sans-Serif\" font-size=\"14.00\">gini = 0.0</text>\n",
       "<text text-anchor=\"start\" x=\"122.12\" y=\"-22.2\" font-family=\"Helvetica,sans-Serif\" font-size=\"14.00\">samples = 14</text>\n",
       "<text text-anchor=\"start\" x=\"120.25\" y=\"-6.45\" font-family=\"Helvetica,sans-Serif\" font-size=\"14.00\">value = [0, 14]</text>\n",
       "</g>\n",
       "<!-- 0&#45;&gt;2 -->\n",
       "<g id=\"edge2\" class=\"edge\">\n",
       "<title>0&#45;&gt;2</title>\n",
       "<path fill=\"none\" stroke=\"black\" d=\"M124.47,-90.81C129.54,-82.64 135.03,-73.77 140.25,-65.35\"/>\n",
       "<polygon fill=\"black\" stroke=\"black\" points=\"143.11,-67.38 145.4,-57.04 137.16,-63.69 143.11,-67.38\"/>\n",
       "<text text-anchor=\"middle\" x=\"151.91\" y=\"-74.66\" font-family=\"Helvetica,sans-Serif\" font-size=\"14.00\">False</text>\n",
       "</g>\n",
       "</g>\n",
       "</svg>\n"
      ],
      "text/plain": [
       "<graphviz.sources.Source at 0x24995984e90>"
      ]
     },
     "execution_count": 12,
     "metadata": {},
     "output_type": "execute_result"
    }
   ],
   "source": [
    "graph_viz_data = tree.export_graphviz(clf, out_file=None, \n",
    "...                      filled=True, rounded=True,  \n",
    "...                      special_characters=True)  \n",
    "graph = graphviz.Source(graph_viz_data)  \n",
    "graph "
   ]
  },
  {
   "cell_type": "code",
   "execution_count": null,
   "id": "9f22e521-1bdc-47c8-a5c7-4d6d038b5764",
   "metadata": {},
   "outputs": [],
   "source": []
  }
 ],
 "metadata": {
  "kernelspec": {
   "display_name": "Python 3 (ipykernel)",
   "language": "python",
   "name": "python3"
  },
  "language_info": {
   "codemirror_mode": {
    "name": "ipython",
    "version": 3
   },
   "file_extension": ".py",
   "mimetype": "text/x-python",
   "name": "python",
   "nbconvert_exporter": "python",
   "pygments_lexer": "ipython3",
   "version": "3.12.7"
  }
 },
 "nbformat": 4,
 "nbformat_minor": 5
}
