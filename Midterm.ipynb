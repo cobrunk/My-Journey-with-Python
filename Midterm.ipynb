{
 "cells": [
  {
   "cell_type": "code",
   "execution_count": 1,
   "id": "f231beec-7fa9-4218-8821-a8e68496725b",
   "metadata": {},
   "outputs": [],
   "source": [
    "import pandas as pd"
   ]
  },
  {
   "cell_type": "code",
   "execution_count": 2,
   "id": "af1e6148-3cfa-405c-bfd5-568cd8ca11bc",
   "metadata": {},
   "outputs": [],
   "source": [
    "pd.set_option('display.max_columns', None)"
   ]
  },
  {
   "cell_type": "code",
   "execution_count": 3,
   "id": "3c0b53fd-329a-4433-8e89-94588c311334",
   "metadata": {},
   "outputs": [],
   "source": [
    "data=pd.read_excel('Crowdfunding_data_1000_projects.xlsx')"
   ]
  },
  {
   "cell_type": "code",
   "execution_count": 5,
   "id": "01caa251-e663-4652-b89a-951bb68ced52",
   "metadata": {},
   "outputs": [
    {
     "data": {
      "text/plain": [
       "0         completed\n",
       "1      NotCompleted\n",
       "2         completed\n",
       "3      NotCompleted\n",
       "4      NotCompleted\n",
       "           ...     \n",
       "995       completed\n",
       "996       completed\n",
       "997       completed\n",
       "998    NotCompleted\n",
       "999    NotCompleted\n",
       "Name: funding_status, Length: 1000, dtype: object"
      ]
     },
     "execution_count": 5,
     "metadata": {},
     "output_type": "execute_result"
    }
   ],
   "source": [
    "data['funding_status']"
   ]
  },
  {
   "cell_type": "code",
   "execution_count": 9,
   "id": "b24e4028-abc3-4213-8e5e-903d180e98aa",
   "metadata": {},
   "outputs": [
    {
     "data": {
      "text/html": [
       "<div>\n",
       "<style scoped>\n",
       "    .dataframe tbody tr th:only-of-type {\n",
       "        vertical-align: middle;\n",
       "    }\n",
       "\n",
       "    .dataframe tbody tr th {\n",
       "        vertical-align: top;\n",
       "    }\n",
       "\n",
       "    .dataframe thead th {\n",
       "        text-align: right;\n",
       "    }\n",
       "</style>\n",
       "<table border=\"1\" class=\"dataframe\">\n",
       "  <thead>\n",
       "    <tr style=\"text-align: right;\">\n",
       "      <th></th>\n",
       "      <th>students_reached</th>\n",
       "    </tr>\n",
       "  </thead>\n",
       "  <tbody>\n",
       "    <tr>\n",
       "      <th>0</th>\n",
       "      <td>12</td>\n",
       "    </tr>\n",
       "    <tr>\n",
       "      <th>1</th>\n",
       "      <td>63</td>\n",
       "    </tr>\n",
       "    <tr>\n",
       "      <th>2</th>\n",
       "      <td>88</td>\n",
       "    </tr>\n",
       "    <tr>\n",
       "      <th>3</th>\n",
       "      <td>30</td>\n",
       "    </tr>\n",
       "    <tr>\n",
       "      <th>4</th>\n",
       "      <td>92</td>\n",
       "    </tr>\n",
       "    <tr>\n",
       "      <th>...</th>\n",
       "      <td>...</td>\n",
       "    </tr>\n",
       "    <tr>\n",
       "      <th>995</th>\n",
       "      <td>20</td>\n",
       "    </tr>\n",
       "    <tr>\n",
       "      <th>996</th>\n",
       "      <td>100</td>\n",
       "    </tr>\n",
       "    <tr>\n",
       "      <th>997</th>\n",
       "      <td>75</td>\n",
       "    </tr>\n",
       "    <tr>\n",
       "      <th>998</th>\n",
       "      <td>15</td>\n",
       "    </tr>\n",
       "    <tr>\n",
       "      <th>999</th>\n",
       "      <td>100</td>\n",
       "    </tr>\n",
       "  </tbody>\n",
       "</table>\n",
       "<p>1000 rows × 1 columns</p>\n",
       "</div>"
      ],
      "text/plain": [
       "     students_reached\n",
       "0                  12\n",
       "1                  63\n",
       "2                  88\n",
       "3                  30\n",
       "4                  92\n",
       "..                ...\n",
       "995                20\n",
       "996               100\n",
       "997                75\n",
       "998                15\n",
       "999               100\n",
       "\n",
       "[1000 rows x 1 columns]"
      ]
     },
     "execution_count": 9,
     "metadata": {},
     "output_type": "execute_result"
    }
   ],
   "source": [
    "data[['students_reached']]"
   ]
  },
  {
   "cell_type": "code",
   "execution_count": 10,
   "id": "b90ccee2-8221-409e-a983-37a5f6f643ba",
   "metadata": {},
   "outputs": [
    {
     "data": {
      "text/plain": [
       "0       12\n",
       "1       63\n",
       "2       88\n",
       "3       30\n",
       "4       92\n",
       "      ... \n",
       "995     20\n",
       "996    100\n",
       "997     75\n",
       "998     15\n",
       "999    100\n",
       "Name: students_reached, Length: 1000, dtype: int64"
      ]
     },
     "execution_count": 10,
     "metadata": {},
     "output_type": "execute_result"
    }
   ],
   "source": [
    "data.students_reached"
   ]
  },
  {
   "cell_type": "code",
   "execution_count": 13,
   "id": "0329f9dc-0ecf-4788-b466-85937feb727d",
   "metadata": {
    "scrolled": true
   },
   "outputs": [
    {
     "name": "stdout",
     "output_type": "stream",
     "text": [
      " Volume in drive C is Windows\n",
      " Volume Serial Number is 7A74-7975\n",
      "\n",
      " Directory of C:\\Users\\cobbl\\Desktop\\DSS_UMSL\\Jup\n",
      "\n",
      "03/09/2025  11:21 AM    <DIR>          .\n",
      "03/02/2025  05:59 PM    <DIR>          ..\n",
      "03/09/2025  11:09 AM    <DIR>          .ipynb_checkpoints\n",
      "02/03/2025  09:42 PM           256,928 Crowdfunding_data_1000_projects.csv\n",
      "02/03/2025  09:33 PM           194,327 Crowdfunding_data_1000_projects.xlsx\n",
      "02/20/2025  08:34 PM           668,414 Decision Tree using Crowdfunding data.ipynb\n",
      "02/22/2025  04:05 PM            56,558 Decision_Tree_using_dummy_data.ipynb\n",
      "02/20/2025  08:04 PM             9,330 dummy_data.xlsx\n",
      "03/02/2025  05:52 PM             9,819 dummy_data_for_kmeans_discussion.xlsx\n",
      "02/22/2025  04:03 PM             9,342 dummy_data_v2.xlsx\n",
      "03/02/2025  05:53 PM            35,217 Kmeans_prediction_using_dummy_data.ipynb\n",
      "03/02/2025  05:15 PM           110,915 Kmeans_using_crowdfunding_data.ipynb\n",
      "03/02/2025  05:56 PM            65,303 KMeans_using_dummy_data.ipynb\n",
      "02/03/2025  10:32 PM            53,190 M3-1.ipynb\n",
      "02/10/2025  07:03 PM           176,931 M4_1.ipynb\n",
      "02/20/2025  09:28 PM         1,746,664 M5.1.ipynb\n",
      "02/22/2025  04:05 PM            55,827 M5.2.ipynb\n",
      "02/20/2025  08:12 PM           194,327 M5_Crowdfunding_data_1000_projects.xlsx\n",
      "03/02/2025  05:59 PM           231,257 M6_1.ipynb\n",
      "03/02/2025  05:59 PM            44,970 M6_2.ipynb\n",
      "03/09/2025  11:21 AM             5,435 Midterm.ipynb\n",
      "02/03/2025  09:44 PM           261,561 modified_data.csv\n",
      "02/03/2025  09:46 PM           257,670 modified_file.csv\n",
      "02/03/2025  09:50 PM             5,480 multiple_filters.xlsx\n",
      "02/03/2025  09:47 PM            44,181 Pandas_part_1.ipynb\n",
      "02/03/2025  10:28 PM           112,727 Pandas_part_2.ipynb\n",
      "02/03/2025  09:55 PM            37,336 Pandas_part_3.ipynb\n",
      "02/10/2025  07:03 PM           176,015 Train_test_split.ipynb\n",
      "              25 File(s)      4,819,724 bytes\n",
      "               3 Dir(s)  314,181,074,944 bytes free\n"
     ]
    }
   ],
   "source": [
    "ls"
   ]
  }
 ],
 "metadata": {
  "kernelspec": {
   "display_name": "Python 3 (ipykernel)",
   "language": "python",
   "name": "python3"
  },
  "language_info": {
   "codemirror_mode": {
    "name": "ipython",
    "version": 3
   },
   "file_extension": ".py",
   "mimetype": "text/x-python",
   "name": "python",
   "nbconvert_exporter": "python",
   "pygments_lexer": "ipython3",
   "version": "3.12.7"
  }
 },
 "nbformat": 4,
 "nbformat_minor": 5
}
