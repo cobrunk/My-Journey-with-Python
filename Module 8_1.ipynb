{
 "cells": [
  {
   "cell_type": "code",
   "execution_count": 1,
   "id": "4a72ff25-6c9e-4cfe-a5de-f36640648e61",
   "metadata": {},
   "outputs": [],
   "source": [
    "import tweepy"
   ]
  },
  {
   "cell_type": "code",
   "execution_count": 2,
   "id": "6b95b173-59e4-4b1b-9469-2a362df9d1d6",
   "metadata": {},
   "outputs": [],
   "source": [
    "filename='GoFundMe.out'"
   ]
  },
  {
   "cell_type": "code",
   "execution_count": 3,
   "id": "ccbd2207-8079-4d32-a2ab-c1eac2e16451",
   "metadata": {},
   "outputs": [],
   "source": [
    "import shelve"
   ]
  },
  {
   "cell_type": "code",
   "execution_count": 4,
   "id": "3bea0337-a72b-49b3-bf79-57d66a55d5bc",
   "metadata": {},
   "outputs": [],
   "source": [
    "my_shelf = shelve.open(filename)"
   ]
  },
  {
   "cell_type": "code",
   "execution_count": 5,
   "id": "47e2683b-62ee-49ed-b093-e71ce98ca651",
   "metadata": {},
   "outputs": [],
   "source": [
    "globals()['tweets']=my_shelf['public_tweets']"
   ]
  },
  {
   "cell_type": "code",
   "execution_count": 6,
   "id": "192393e8-55e5-4735-bb82-67ece47cdf20",
   "metadata": {},
   "outputs": [
    {
     "data": {
      "text/plain": [
       "15"
      ]
     },
     "execution_count": 6,
     "metadata": {},
     "output_type": "execute_result"
    }
   ],
   "source": [
    "len(tweets)"
   ]
  },
  {
   "cell_type": "code",
   "execution_count": 26,
   "id": "6a0d8d13-3c3d-43e6-929a-cdb01857889f",
   "metadata": {},
   "outputs": [],
   "source": [
    "tweet_create=[]"
   ]
  },
  {
   "cell_type": "code",
   "execution_count": 27,
   "id": "75248293-056f-45ae-9587-00f1f0291bec",
   "metadata": {},
   "outputs": [],
   "source": [
    "tweet_id=[]"
   ]
  },
  {
   "cell_type": "code",
   "execution_count": 28,
   "id": "ea4cd382-44b3-4e1c-a843-c73f274ab6b1",
   "metadata": {},
   "outputs": [],
   "source": [
    "tweet_text=[]"
   ]
  },
  {
   "cell_type": "code",
   "execution_count": 29,
   "id": "e998d490-3cbe-4bb1-941b-39762b952578",
   "metadata": {},
   "outputs": [],
   "source": [
    "for i in range(0, len(tweets)):\n",
    "    tweet_create.append(tweets[i]._json['created_at'])"
   ]
  },
  {
   "cell_type": "code",
   "execution_count": 30,
   "id": "94f93550-6bd7-4f3a-b736-1afd707ec35f",
   "metadata": {},
   "outputs": [
    {
     "data": {
      "text/plain": [
       "['Tue Oct 12 20:53:01 +0000 2021',\n",
       " 'Tue Oct 12 20:52:57 +0000 2021',\n",
       " 'Tue Oct 12 20:52:51 +0000 2021',\n",
       " 'Tue Oct 12 20:52:50 +0000 2021',\n",
       " 'Tue Oct 12 20:52:50 +0000 2021',\n",
       " 'Tue Oct 12 20:52:46 +0000 2021',\n",
       " 'Tue Oct 12 20:52:46 +0000 2021',\n",
       " 'Tue Oct 12 20:52:45 +0000 2021',\n",
       " 'Tue Oct 12 20:52:44 +0000 2021',\n",
       " 'Tue Oct 12 20:52:43 +0000 2021',\n",
       " 'Tue Oct 12 20:52:43 +0000 2021',\n",
       " 'Tue Oct 12 20:52:39 +0000 2021',\n",
       " 'Tue Oct 12 20:52:37 +0000 2021',\n",
       " 'Tue Oct 12 20:52:34 +0000 2021',\n",
       " 'Tue Oct 12 20:52:31 +0000 2021']"
      ]
     },
     "execution_count": 30,
     "metadata": {},
     "output_type": "execute_result"
    }
   ],
   "source": [
    "tweet_create"
   ]
  },
  {
   "cell_type": "code",
   "execution_count": 31,
   "id": "4632ee29-4600-4316-afe4-c555127e08dc",
   "metadata": {},
   "outputs": [],
   "source": [
    "for i in range(0, len(tweets)):\n",
    "    tweet_id.append(tweets[i]._json['id'])"
   ]
  },
  {
   "cell_type": "code",
   "execution_count": 32,
   "id": "a0efd72c-cf1b-4207-a474-7362263a147c",
   "metadata": {},
   "outputs": [
    {
     "data": {
      "text/plain": [
       "[1448028960659365889,\n",
       " 1448028943915884549,\n",
       " 1448028915075674113,\n",
       " 1448028912215228417,\n",
       " 1448028911531593731,\n",
       " 1448028896696356866,\n",
       " 1448028895349981184,\n",
       " 1448028891377983488,\n",
       " 1448028888370647042,\n",
       " 1448028885183090692,\n",
       " 1448028883622797317,\n",
       " 1448028868288331780,\n",
       " 1448028858574323715,\n",
       " 1448028846490591238,\n",
       " 1448028830866755587]"
      ]
     },
     "execution_count": 32,
     "metadata": {},
     "output_type": "execute_result"
    }
   ],
   "source": [
    "tweet_id"
   ]
  },
  {
   "cell_type": "code",
   "execution_count": 33,
   "id": "d749e96f-0ffd-4831-be34-288d7cf9858e",
   "metadata": {},
   "outputs": [],
   "source": [
    "for i in range(0, len(tweets)):\n",
    "    tweet_text.append(tweets[i]._json['text'])"
   ]
  },
  {
   "cell_type": "code",
   "execution_count": 34,
   "id": "8ac95e82-9952-43db-ab28-dad7bfa0b4b3",
   "metadata": {},
   "outputs": [
    {
     "data": {
      "text/plain": [
       "['RT @CommunistCowgrl: Ana’s had a total of 3 gofundme’s over 6 years for two separate incidents. One of which to get her sister and young ni…',\n",
       " \"RT @marxistkyoshi: 🚨 T*ME SENSITIVE 🚨\\n\\nI am at $7,321/10,000 that means im less than $2700 away from my ultimate goal\\n\\nI'm hoping to reach…\",\n",
       " 'RT @hlvraigender: yesterday i found out my insurance wont cover top surgery, so i made a gofundme in hopes of achieving my goal 🙏 please co…',\n",
       " \"RT @KUSINews: Santee families are turning to crowd funding after losing their homes to yesterday's plane crash.\\n\\nMaria and Phil, who were i…\",\n",
       " 'RT @kaylechi__: My son has a hole in his heart and he needs to undergo heart surgery to stay alive.The surgery is very expensive and I can’…',\n",
       " 'RT @blacburrberry: https://t.co/Wt8xBtCbCK',\n",
       " 'RT @carmeLaLongo: Buenos días, recuerdan la ayuda que le pedí el domingo? A Génesis tienen que hacerle urgente un trasplante de médula. Por…',\n",
       " 'RT @ChickyThoughts: Day 12: Boo #comictober2021\\nhttps://t.co/02NgSlsRm7 https://t.co/sk6y6nwOXh',\n",
       " '27.2 miles Marathon in my Rugby Wheelchair https://t.co/5IXTfbqnGk\\n\\nIf this guy was a horse on TIK TOK he wd have t… https://t.co/apioS9c9wN',\n",
       " 'RT @blacburrberry: https://t.co/tNt7hxeAcU',\n",
       " 'RT @coveredinclover: ‼️THIS IS AN EMERGENCY‼️\\n\\n‼️DO NOT SKIP, IF YOU CAN’T DON8, RT‼️\\n\\n‼️I NEED TO MAKE $800 BY THE END OF NEXT WEEK! I HAV…',\n",
       " 'RT @coveredinclover: ❕‼️We need your help! ‼️❕\\n\\n‼️I cannot make it to work without a vehicle!!‼️\\n\\n❕Do not scroll!❕\\n\\n‼️Like, RT, share, tag…',\n",
       " \"RT @nightowlsrg: Here's the link to sponsor @TheLiveLuke on his jaunt round Swansea https://t.co/9Q5w8bpBbl\",\n",
       " 'RT @carmeLaLongo: Buenos días, recuerdan la ayuda que le pedí el domingo? A Génesis tienen que hacerle urgente un trasplante de médula. Por…',\n",
       " \"RT @coveredinclover: ♥ GOAL:$735/$5000 ♥\\n\\nPlease help me if you can! \\nI'm a struggling single mom of two children!\\nIf you cannot don8 or bo…\"]"
      ]
     },
     "execution_count": 34,
     "metadata": {},
     "output_type": "execute_result"
    }
   ],
   "source": [
    "tweet_text"
   ]
  },
  {
   "cell_type": "code",
   "execution_count": 35,
   "id": "d10798f5-72f1-4288-82bf-0d8158b424d7",
   "metadata": {},
   "outputs": [],
   "source": [
    "import pandas as pd"
   ]
  },
  {
   "cell_type": "code",
   "execution_count": 36,
   "id": "9456cc36-865e-494b-800f-9ef38c4996de",
   "metadata": {},
   "outputs": [],
   "source": [
    "data=pd.DataFrame()"
   ]
  },
  {
   "cell_type": "code",
   "execution_count": 37,
   "id": "8cf44f12-333e-4dbf-84a2-d087d72368b9",
   "metadata": {},
   "outputs": [],
   "source": [
    "data['tweet_create']=tweet_create"
   ]
  },
  {
   "cell_type": "code",
   "execution_count": 38,
   "id": "2610e495-01a0-4e22-9374-9409ac267d4e",
   "metadata": {},
   "outputs": [
    {
     "data": {
      "text/html": [
       "<div>\n",
       "<style scoped>\n",
       "    .dataframe tbody tr th:only-of-type {\n",
       "        vertical-align: middle;\n",
       "    }\n",
       "\n",
       "    .dataframe tbody tr th {\n",
       "        vertical-align: top;\n",
       "    }\n",
       "\n",
       "    .dataframe thead th {\n",
       "        text-align: right;\n",
       "    }\n",
       "</style>\n",
       "<table border=\"1\" class=\"dataframe\">\n",
       "  <thead>\n",
       "    <tr style=\"text-align: right;\">\n",
       "      <th></th>\n",
       "      <th>tweet_create</th>\n",
       "    </tr>\n",
       "  </thead>\n",
       "  <tbody>\n",
       "    <tr>\n",
       "      <th>0</th>\n",
       "      <td>Tue Oct 12 20:53:01 +0000 2021</td>\n",
       "    </tr>\n",
       "    <tr>\n",
       "      <th>1</th>\n",
       "      <td>Tue Oct 12 20:52:57 +0000 2021</td>\n",
       "    </tr>\n",
       "    <tr>\n",
       "      <th>2</th>\n",
       "      <td>Tue Oct 12 20:52:51 +0000 2021</td>\n",
       "    </tr>\n",
       "    <tr>\n",
       "      <th>3</th>\n",
       "      <td>Tue Oct 12 20:52:50 +0000 2021</td>\n",
       "    </tr>\n",
       "    <tr>\n",
       "      <th>4</th>\n",
       "      <td>Tue Oct 12 20:52:50 +0000 2021</td>\n",
       "    </tr>\n",
       "    <tr>\n",
       "      <th>5</th>\n",
       "      <td>Tue Oct 12 20:52:46 +0000 2021</td>\n",
       "    </tr>\n",
       "    <tr>\n",
       "      <th>6</th>\n",
       "      <td>Tue Oct 12 20:52:46 +0000 2021</td>\n",
       "    </tr>\n",
       "    <tr>\n",
       "      <th>7</th>\n",
       "      <td>Tue Oct 12 20:52:45 +0000 2021</td>\n",
       "    </tr>\n",
       "    <tr>\n",
       "      <th>8</th>\n",
       "      <td>Tue Oct 12 20:52:44 +0000 2021</td>\n",
       "    </tr>\n",
       "    <tr>\n",
       "      <th>9</th>\n",
       "      <td>Tue Oct 12 20:52:43 +0000 2021</td>\n",
       "    </tr>\n",
       "    <tr>\n",
       "      <th>10</th>\n",
       "      <td>Tue Oct 12 20:52:43 +0000 2021</td>\n",
       "    </tr>\n",
       "    <tr>\n",
       "      <th>11</th>\n",
       "      <td>Tue Oct 12 20:52:39 +0000 2021</td>\n",
       "    </tr>\n",
       "    <tr>\n",
       "      <th>12</th>\n",
       "      <td>Tue Oct 12 20:52:37 +0000 2021</td>\n",
       "    </tr>\n",
       "    <tr>\n",
       "      <th>13</th>\n",
       "      <td>Tue Oct 12 20:52:34 +0000 2021</td>\n",
       "    </tr>\n",
       "    <tr>\n",
       "      <th>14</th>\n",
       "      <td>Tue Oct 12 20:52:31 +0000 2021</td>\n",
       "    </tr>\n",
       "  </tbody>\n",
       "</table>\n",
       "</div>"
      ],
      "text/plain": [
       "                      tweet_create\n",
       "0   Tue Oct 12 20:53:01 +0000 2021\n",
       "1   Tue Oct 12 20:52:57 +0000 2021\n",
       "2   Tue Oct 12 20:52:51 +0000 2021\n",
       "3   Tue Oct 12 20:52:50 +0000 2021\n",
       "4   Tue Oct 12 20:52:50 +0000 2021\n",
       "5   Tue Oct 12 20:52:46 +0000 2021\n",
       "6   Tue Oct 12 20:52:46 +0000 2021\n",
       "7   Tue Oct 12 20:52:45 +0000 2021\n",
       "8   Tue Oct 12 20:52:44 +0000 2021\n",
       "9   Tue Oct 12 20:52:43 +0000 2021\n",
       "10  Tue Oct 12 20:52:43 +0000 2021\n",
       "11  Tue Oct 12 20:52:39 +0000 2021\n",
       "12  Tue Oct 12 20:52:37 +0000 2021\n",
       "13  Tue Oct 12 20:52:34 +0000 2021\n",
       "14  Tue Oct 12 20:52:31 +0000 2021"
      ]
     },
     "execution_count": 38,
     "metadata": {},
     "output_type": "execute_result"
    }
   ],
   "source": [
    "data"
   ]
  },
  {
   "cell_type": "code",
   "execution_count": 39,
   "id": "5b7d5e35-4a44-4e0f-b0ed-429f5da067b1",
   "metadata": {},
   "outputs": [],
   "source": [
    "data['tweet_id']=tweet_id"
   ]
  },
  {
   "cell_type": "code",
   "execution_count": 40,
   "id": "3ba9bf8a-4a53-4294-8ed0-ff1802638a86",
   "metadata": {},
   "outputs": [
    {
     "data": {
      "text/html": [
       "<div>\n",
       "<style scoped>\n",
       "    .dataframe tbody tr th:only-of-type {\n",
       "        vertical-align: middle;\n",
       "    }\n",
       "\n",
       "    .dataframe tbody tr th {\n",
       "        vertical-align: top;\n",
       "    }\n",
       "\n",
       "    .dataframe thead th {\n",
       "        text-align: right;\n",
       "    }\n",
       "</style>\n",
       "<table border=\"1\" class=\"dataframe\">\n",
       "  <thead>\n",
       "    <tr style=\"text-align: right;\">\n",
       "      <th></th>\n",
       "      <th>tweet_create</th>\n",
       "      <th>tweet_id</th>\n",
       "    </tr>\n",
       "  </thead>\n",
       "  <tbody>\n",
       "    <tr>\n",
       "      <th>0</th>\n",
       "      <td>Tue Oct 12 20:53:01 +0000 2021</td>\n",
       "      <td>1448028960659365889</td>\n",
       "    </tr>\n",
       "    <tr>\n",
       "      <th>1</th>\n",
       "      <td>Tue Oct 12 20:52:57 +0000 2021</td>\n",
       "      <td>1448028943915884549</td>\n",
       "    </tr>\n",
       "    <tr>\n",
       "      <th>2</th>\n",
       "      <td>Tue Oct 12 20:52:51 +0000 2021</td>\n",
       "      <td>1448028915075674113</td>\n",
       "    </tr>\n",
       "    <tr>\n",
       "      <th>3</th>\n",
       "      <td>Tue Oct 12 20:52:50 +0000 2021</td>\n",
       "      <td>1448028912215228417</td>\n",
       "    </tr>\n",
       "    <tr>\n",
       "      <th>4</th>\n",
       "      <td>Tue Oct 12 20:52:50 +0000 2021</td>\n",
       "      <td>1448028911531593731</td>\n",
       "    </tr>\n",
       "    <tr>\n",
       "      <th>5</th>\n",
       "      <td>Tue Oct 12 20:52:46 +0000 2021</td>\n",
       "      <td>1448028896696356866</td>\n",
       "    </tr>\n",
       "    <tr>\n",
       "      <th>6</th>\n",
       "      <td>Tue Oct 12 20:52:46 +0000 2021</td>\n",
       "      <td>1448028895349981184</td>\n",
       "    </tr>\n",
       "    <tr>\n",
       "      <th>7</th>\n",
       "      <td>Tue Oct 12 20:52:45 +0000 2021</td>\n",
       "      <td>1448028891377983488</td>\n",
       "    </tr>\n",
       "    <tr>\n",
       "      <th>8</th>\n",
       "      <td>Tue Oct 12 20:52:44 +0000 2021</td>\n",
       "      <td>1448028888370647042</td>\n",
       "    </tr>\n",
       "    <tr>\n",
       "      <th>9</th>\n",
       "      <td>Tue Oct 12 20:52:43 +0000 2021</td>\n",
       "      <td>1448028885183090692</td>\n",
       "    </tr>\n",
       "    <tr>\n",
       "      <th>10</th>\n",
       "      <td>Tue Oct 12 20:52:43 +0000 2021</td>\n",
       "      <td>1448028883622797317</td>\n",
       "    </tr>\n",
       "    <tr>\n",
       "      <th>11</th>\n",
       "      <td>Tue Oct 12 20:52:39 +0000 2021</td>\n",
       "      <td>1448028868288331780</td>\n",
       "    </tr>\n",
       "    <tr>\n",
       "      <th>12</th>\n",
       "      <td>Tue Oct 12 20:52:37 +0000 2021</td>\n",
       "      <td>1448028858574323715</td>\n",
       "    </tr>\n",
       "    <tr>\n",
       "      <th>13</th>\n",
       "      <td>Tue Oct 12 20:52:34 +0000 2021</td>\n",
       "      <td>1448028846490591238</td>\n",
       "    </tr>\n",
       "    <tr>\n",
       "      <th>14</th>\n",
       "      <td>Tue Oct 12 20:52:31 +0000 2021</td>\n",
       "      <td>1448028830866755587</td>\n",
       "    </tr>\n",
       "  </tbody>\n",
       "</table>\n",
       "</div>"
      ],
      "text/plain": [
       "                      tweet_create             tweet_id\n",
       "0   Tue Oct 12 20:53:01 +0000 2021  1448028960659365889\n",
       "1   Tue Oct 12 20:52:57 +0000 2021  1448028943915884549\n",
       "2   Tue Oct 12 20:52:51 +0000 2021  1448028915075674113\n",
       "3   Tue Oct 12 20:52:50 +0000 2021  1448028912215228417\n",
       "4   Tue Oct 12 20:52:50 +0000 2021  1448028911531593731\n",
       "5   Tue Oct 12 20:52:46 +0000 2021  1448028896696356866\n",
       "6   Tue Oct 12 20:52:46 +0000 2021  1448028895349981184\n",
       "7   Tue Oct 12 20:52:45 +0000 2021  1448028891377983488\n",
       "8   Tue Oct 12 20:52:44 +0000 2021  1448028888370647042\n",
       "9   Tue Oct 12 20:52:43 +0000 2021  1448028885183090692\n",
       "10  Tue Oct 12 20:52:43 +0000 2021  1448028883622797317\n",
       "11  Tue Oct 12 20:52:39 +0000 2021  1448028868288331780\n",
       "12  Tue Oct 12 20:52:37 +0000 2021  1448028858574323715\n",
       "13  Tue Oct 12 20:52:34 +0000 2021  1448028846490591238\n",
       "14  Tue Oct 12 20:52:31 +0000 2021  1448028830866755587"
      ]
     },
     "execution_count": 40,
     "metadata": {},
     "output_type": "execute_result"
    }
   ],
   "source": [
    "data"
   ]
  },
  {
   "cell_type": "code",
   "execution_count": 41,
   "id": "0b4a14e5-c7e3-4c7e-8442-dbd030bd9baa",
   "metadata": {},
   "outputs": [],
   "source": [
    "data['tweet_text']=tweet_text"
   ]
  },
  {
   "cell_type": "code",
   "execution_count": 42,
   "id": "6058f6ae-e06f-4b40-988e-b9709c80e14c",
   "metadata": {},
   "outputs": [
    {
     "data": {
      "text/html": [
       "<div>\n",
       "<style scoped>\n",
       "    .dataframe tbody tr th:only-of-type {\n",
       "        vertical-align: middle;\n",
       "    }\n",
       "\n",
       "    .dataframe tbody tr th {\n",
       "        vertical-align: top;\n",
       "    }\n",
       "\n",
       "    .dataframe thead th {\n",
       "        text-align: right;\n",
       "    }\n",
       "</style>\n",
       "<table border=\"1\" class=\"dataframe\">\n",
       "  <thead>\n",
       "    <tr style=\"text-align: right;\">\n",
       "      <th></th>\n",
       "      <th>tweet_create</th>\n",
       "      <th>tweet_id</th>\n",
       "      <th>tweet_text</th>\n",
       "    </tr>\n",
       "  </thead>\n",
       "  <tbody>\n",
       "    <tr>\n",
       "      <th>0</th>\n",
       "      <td>Tue Oct 12 20:53:01 +0000 2021</td>\n",
       "      <td>1448028960659365889</td>\n",
       "      <td>RT @CommunistCowgrl: Ana’s had a total of 3 go...</td>\n",
       "    </tr>\n",
       "    <tr>\n",
       "      <th>1</th>\n",
       "      <td>Tue Oct 12 20:52:57 +0000 2021</td>\n",
       "      <td>1448028943915884549</td>\n",
       "      <td>RT @marxistkyoshi: 🚨 T*ME SENSITIVE 🚨\\n\\nI am ...</td>\n",
       "    </tr>\n",
       "    <tr>\n",
       "      <th>2</th>\n",
       "      <td>Tue Oct 12 20:52:51 +0000 2021</td>\n",
       "      <td>1448028915075674113</td>\n",
       "      <td>RT @hlvraigender: yesterday i found out my ins...</td>\n",
       "    </tr>\n",
       "    <tr>\n",
       "      <th>3</th>\n",
       "      <td>Tue Oct 12 20:52:50 +0000 2021</td>\n",
       "      <td>1448028912215228417</td>\n",
       "      <td>RT @KUSINews: Santee families are turning to c...</td>\n",
       "    </tr>\n",
       "    <tr>\n",
       "      <th>4</th>\n",
       "      <td>Tue Oct 12 20:52:50 +0000 2021</td>\n",
       "      <td>1448028911531593731</td>\n",
       "      <td>RT @kaylechi__: My son has a hole in his heart...</td>\n",
       "    </tr>\n",
       "    <tr>\n",
       "      <th>5</th>\n",
       "      <td>Tue Oct 12 20:52:46 +0000 2021</td>\n",
       "      <td>1448028896696356866</td>\n",
       "      <td>RT @blacburrberry: https://t.co/Wt8xBtCbCK</td>\n",
       "    </tr>\n",
       "    <tr>\n",
       "      <th>6</th>\n",
       "      <td>Tue Oct 12 20:52:46 +0000 2021</td>\n",
       "      <td>1448028895349981184</td>\n",
       "      <td>RT @carmeLaLongo: Buenos días, recuerdan la ay...</td>\n",
       "    </tr>\n",
       "    <tr>\n",
       "      <th>7</th>\n",
       "      <td>Tue Oct 12 20:52:45 +0000 2021</td>\n",
       "      <td>1448028891377983488</td>\n",
       "      <td>RT @ChickyThoughts: Day 12: Boo #comictober202...</td>\n",
       "    </tr>\n",
       "    <tr>\n",
       "      <th>8</th>\n",
       "      <td>Tue Oct 12 20:52:44 +0000 2021</td>\n",
       "      <td>1448028888370647042</td>\n",
       "      <td>27.2 miles Marathon in my Rugby Wheelchair htt...</td>\n",
       "    </tr>\n",
       "    <tr>\n",
       "      <th>9</th>\n",
       "      <td>Tue Oct 12 20:52:43 +0000 2021</td>\n",
       "      <td>1448028885183090692</td>\n",
       "      <td>RT @blacburrberry: https://t.co/tNt7hxeAcU</td>\n",
       "    </tr>\n",
       "    <tr>\n",
       "      <th>10</th>\n",
       "      <td>Tue Oct 12 20:52:43 +0000 2021</td>\n",
       "      <td>1448028883622797317</td>\n",
       "      <td>RT @coveredinclover: ‼️THIS IS AN EMERGENCY‼️\\...</td>\n",
       "    </tr>\n",
       "    <tr>\n",
       "      <th>11</th>\n",
       "      <td>Tue Oct 12 20:52:39 +0000 2021</td>\n",
       "      <td>1448028868288331780</td>\n",
       "      <td>RT @coveredinclover: ❕‼️We need your help! ‼️❕...</td>\n",
       "    </tr>\n",
       "    <tr>\n",
       "      <th>12</th>\n",
       "      <td>Tue Oct 12 20:52:37 +0000 2021</td>\n",
       "      <td>1448028858574323715</td>\n",
       "      <td>RT @nightowlsrg: Here's the link to sponsor @T...</td>\n",
       "    </tr>\n",
       "    <tr>\n",
       "      <th>13</th>\n",
       "      <td>Tue Oct 12 20:52:34 +0000 2021</td>\n",
       "      <td>1448028846490591238</td>\n",
       "      <td>RT @carmeLaLongo: Buenos días, recuerdan la ay...</td>\n",
       "    </tr>\n",
       "    <tr>\n",
       "      <th>14</th>\n",
       "      <td>Tue Oct 12 20:52:31 +0000 2021</td>\n",
       "      <td>1448028830866755587</td>\n",
       "      <td>RT @coveredinclover: ♥ GOAL:$735/$5000 ♥\\n\\nPl...</td>\n",
       "    </tr>\n",
       "  </tbody>\n",
       "</table>\n",
       "</div>"
      ],
      "text/plain": [
       "                      tweet_create             tweet_id  \\\n",
       "0   Tue Oct 12 20:53:01 +0000 2021  1448028960659365889   \n",
       "1   Tue Oct 12 20:52:57 +0000 2021  1448028943915884549   \n",
       "2   Tue Oct 12 20:52:51 +0000 2021  1448028915075674113   \n",
       "3   Tue Oct 12 20:52:50 +0000 2021  1448028912215228417   \n",
       "4   Tue Oct 12 20:52:50 +0000 2021  1448028911531593731   \n",
       "5   Tue Oct 12 20:52:46 +0000 2021  1448028896696356866   \n",
       "6   Tue Oct 12 20:52:46 +0000 2021  1448028895349981184   \n",
       "7   Tue Oct 12 20:52:45 +0000 2021  1448028891377983488   \n",
       "8   Tue Oct 12 20:52:44 +0000 2021  1448028888370647042   \n",
       "9   Tue Oct 12 20:52:43 +0000 2021  1448028885183090692   \n",
       "10  Tue Oct 12 20:52:43 +0000 2021  1448028883622797317   \n",
       "11  Tue Oct 12 20:52:39 +0000 2021  1448028868288331780   \n",
       "12  Tue Oct 12 20:52:37 +0000 2021  1448028858574323715   \n",
       "13  Tue Oct 12 20:52:34 +0000 2021  1448028846490591238   \n",
       "14  Tue Oct 12 20:52:31 +0000 2021  1448028830866755587   \n",
       "\n",
       "                                           tweet_text  \n",
       "0   RT @CommunistCowgrl: Ana’s had a total of 3 go...  \n",
       "1   RT @marxistkyoshi: 🚨 T*ME SENSITIVE 🚨\\n\\nI am ...  \n",
       "2   RT @hlvraigender: yesterday i found out my ins...  \n",
       "3   RT @KUSINews: Santee families are turning to c...  \n",
       "4   RT @kaylechi__: My son has a hole in his heart...  \n",
       "5          RT @blacburrberry: https://t.co/Wt8xBtCbCK  \n",
       "6   RT @carmeLaLongo: Buenos días, recuerdan la ay...  \n",
       "7   RT @ChickyThoughts: Day 12: Boo #comictober202...  \n",
       "8   27.2 miles Marathon in my Rugby Wheelchair htt...  \n",
       "9          RT @blacburrberry: https://t.co/tNt7hxeAcU  \n",
       "10  RT @coveredinclover: ‼️THIS IS AN EMERGENCY‼️\\...  \n",
       "11  RT @coveredinclover: ❕‼️We need your help! ‼️❕...  \n",
       "12  RT @nightowlsrg: Here's the link to sponsor @T...  \n",
       "13  RT @carmeLaLongo: Buenos días, recuerdan la ay...  \n",
       "14  RT @coveredinclover: ♥ GOAL:$735/$5000 ♥\\n\\nPl...  "
      ]
     },
     "execution_count": 42,
     "metadata": {},
     "output_type": "execute_result"
    }
   ],
   "source": [
    "data"
   ]
  },
  {
   "cell_type": "code",
   "execution_count": 43,
   "id": "2e52b897-b75f-41f2-9078-bfc44f909e4c",
   "metadata": {},
   "outputs": [],
   "source": [
    "data.to_excel('GoFundTweets.xlsx',index=False)"
   ]
  },
  {
   "cell_type": "code",
   "execution_count": 44,
   "id": "d4bcff27-e918-42c6-9dcb-726aca317c8d",
   "metadata": {},
   "outputs": [],
   "source": [
    "filename='UMSL.out'"
   ]
  },
  {
   "cell_type": "code",
   "execution_count": 45,
   "id": "c84c48b0-1fbc-4f6b-a0ee-ad74320cb562",
   "metadata": {},
   "outputs": [],
   "source": [
    "my_shelf = shelve.open(filename)"
   ]
  },
  {
   "cell_type": "code",
   "execution_count": 46,
   "id": "aa2e28ff-3b03-435c-a561-28e92ae2e8db",
   "metadata": {},
   "outputs": [],
   "source": [
    "globals()['tweets']=my_shelf['public_tweets']"
   ]
  },
  {
   "cell_type": "code",
   "execution_count": 47,
   "id": "b9263a1a-5176-44e8-9e35-fe1542c7e632",
   "metadata": {},
   "outputs": [
    {
     "data": {
      "text/plain": [
       "15"
      ]
     },
     "execution_count": 47,
     "metadata": {},
     "output_type": "execute_result"
    }
   ],
   "source": [
    "len(tweets)"
   ]
  },
  {
   "cell_type": "code",
   "execution_count": 48,
   "id": "0e407ad3-77ea-4be7-b4ae-b546598f1bd2",
   "metadata": {
    "scrolled": true
   },
   "outputs": [
    {
     "data": {
      "text/plain": [
       "Status(_json={'created_at': 'Tue Oct 12 20:42:12 +0000 2021', 'id': 1448026236672937987, 'id_str': '1448026236672937987', 'text': \"RT @BStingSTL: Today I had the distinct pleasure of joining @umsl's Language and Cultural Studies Department and campus LGBTQ+ group PRIZM…\", 'truncated': False, 'entities': {'hashtags': [], 'symbols': [], 'user_mentions': [{'screen_name': 'BStingSTL', 'name': 'Ald. Bill Stephens 🏳️\\u200d🌈', 'id': 369340471, 'id_str': '369340471', 'indices': [3, 13]}, {'screen_name': 'umsl', 'name': 'University of Missouri–St. Louis', 'id': 92316446, 'id_str': '92316446', 'indices': [60, 65]}], 'urls': []}, 'metadata': {'iso_language_code': 'en', 'result_type': 'recent'}, 'source': '<a href=\"http://twitter.com/download/android\" rel=\"nofollow\">Twitter for Android</a>', 'in_reply_to_status_id': None, 'in_reply_to_status_id_str': None, 'in_reply_to_user_id': None, 'in_reply_to_user_id_str': None, 'in_reply_to_screen_name': None, 'user': {'id': 935613782876938240, 'id_str': '935613782876938240', 'name': '💥🖕Punisher is Vaccinated 🖕💥', 'screen_name': 'TheRealJTIII', 'location': 'St Louis, MO', 'description': \"I'm a serial retweeter. Vive la résistance!!! #TWD #FearTWD #ChiefsKingdom  #STLCARDS #Resist #TheResistance  #FBR #BlackLivesMatter #BidenHarris2020\", 'url': None, 'entities': {'description': {'urls': []}}, 'protected': False, 'followers_count': 4066, 'friends_count': 4995, 'listed_count': 1, 'created_at': 'Tue Nov 28 20:58:03 +0000 2017', 'favourites_count': 273382, 'utc_offset': None, 'time_zone': None, 'geo_enabled': True, 'verified': False, 'statuses_count': 157472, 'lang': None, 'contributors_enabled': False, 'is_translator': False, 'is_translation_enabled': False, 'profile_background_color': 'F5F8FA', 'profile_background_image_url': None, 'profile_background_image_url_https': None, 'profile_background_tile': False, 'profile_image_url': 'http://pbs.twimg.com/profile_images/936437992532652033/GkTWegD7_normal.jpg', 'profile_image_url_https': 'https://pbs.twimg.com/profile_images/936437992532652033/GkTWegD7_normal.jpg', 'profile_banner_url': 'https://pbs.twimg.com/profile_banners/935613782876938240/1529160227', 'profile_link_color': '1DA1F2', 'profile_sidebar_border_color': 'C0DEED', 'profile_sidebar_fill_color': 'DDEEF6', 'profile_text_color': '333333', 'profile_use_background_image': True, 'has_extended_profile': True, 'default_profile': True, 'default_profile_image': False, 'following': False, 'follow_request_sent': False, 'notifications': False, 'translator_type': 'none', 'withheld_in_countries': []}, 'geo': None, 'coordinates': None, 'place': None, 'contributors': None, 'retweeted_status': {'created_at': 'Tue Oct 12 20:36:39 +0000 2021', 'id': 1448024841232211978, 'id_str': '1448024841232211978', 'text': \"Today I had the distinct pleasure of joining @umsl's Language and Cultural Studies Department and campus LGBTQ+ gro… https://t.co/rEMw8ZtfIM\", 'truncated': True, 'entities': {'hashtags': [], 'symbols': [], 'user_mentions': [{'screen_name': 'umsl', 'name': 'University of Missouri–St. Louis', 'id': 92316446, 'id_str': '92316446', 'indices': [45, 50]}], 'urls': [{'url': 'https://t.co/rEMw8ZtfIM', 'expanded_url': 'https://twitter.com/i/web/status/1448024841232211978', 'display_url': 'twitter.com/i/web/status/1…', 'indices': [117, 140]}]}, 'metadata': {'iso_language_code': 'en', 'result_type': 'recent'}, 'source': '<a href=\"http://twitter.com/download/android\" rel=\"nofollow\">Twitter for Android</a>', 'in_reply_to_status_id': None, 'in_reply_to_status_id_str': None, 'in_reply_to_user_id': None, 'in_reply_to_user_id_str': None, 'in_reply_to_screen_name': None, 'user': {'id': 369340471, 'id_str': '369340471', 'name': 'Ald. Bill Stephens 🏳️\\u200d🌈', 'screen_name': 'BStingSTL', 'location': 'St. Louis, Missouri', 'description': '12th Ward Alderman, St. Louis. Humanist. Archivist, Pride STL; Adviser/Board Member, Growing American Youth;🐝; ΗΣΦ. Fierce Compassion, Radical Empathy. 🏳️\\u200d🌈', 'url': 'https://t.co/otDZrlKZRk', 'entities': {'url': {'urls': [{'url': 'https://t.co/otDZrlKZRk', 'expanded_url': 'https://secure.actblue.com/donate/friends-of-bill-stephens-1?refcode=twitter', 'display_url': 'secure.actblue.com/donate/friends…', 'indices': [0, 23]}]}, 'description': {'urls': []}}, 'protected': False, 'followers_count': 1240, 'friends_count': 301, 'listed_count': 29, 'created_at': 'Wed Sep 07 05:47:58 +0000 2011', 'favourites_count': 11009, 'utc_offset': None, 'time_zone': None, 'geo_enabled': True, 'verified': False, 'statuses_count': 5656, 'lang': None, 'contributors_enabled': False, 'is_translator': False, 'is_translation_enabled': False, 'profile_background_color': '131516', 'profile_background_image_url': 'http://abs.twimg.com/images/themes/theme1/bg.png', 'profile_background_image_url_https': 'https://abs.twimg.com/images/themes/theme1/bg.png', 'profile_background_tile': False, 'profile_image_url': 'http://pbs.twimg.com/profile_images/1319406287873069059/5bFwOofq_normal.jpg', 'profile_image_url_https': 'https://pbs.twimg.com/profile_images/1319406287873069059/5bFwOofq_normal.jpg', 'profile_banner_url': 'https://pbs.twimg.com/profile_banners/369340471/1625718876', 'profile_link_color': '009999', 'profile_sidebar_border_color': 'C0DEED', 'profile_sidebar_fill_color': 'DDEEF6', 'profile_text_color': '333333', 'profile_use_background_image': True, 'has_extended_profile': True, 'default_profile': False, 'default_profile_image': False, 'following': False, 'follow_request_sent': False, 'notifications': False, 'translator_type': 'none', 'withheld_in_countries': []}, 'geo': None, 'coordinates': None, 'place': {'id': '0570f015c264cbd9', 'url': 'https://api.twitter.com/1.1/geo/id/0570f015c264cbd9.json', 'place_type': 'city', 'name': 'St Louis', 'full_name': 'St Louis, MO', 'country_code': 'US', 'country': 'United States', 'contained_within': [], 'bounding_box': {'type': 'Polygon', 'coordinates': [[[-90.3205158, 38.5331934], [-90.175132, 38.5331934], [-90.175132, 38.774349], [-90.3205158, 38.774349]]]}, 'attributes': {}}, 'contributors': None, 'is_quote_status': False, 'retweet_count': 1, 'favorite_count': 2, 'favorited': False, 'retweeted': False, 'lang': 'en'}, 'is_quote_status': False, 'retweet_count': 1, 'favorite_count': 0, 'favorited': False, 'retweeted': False, 'lang': 'en'}, created_at=datetime.datetime(2021, 10, 12, 20, 42, 12), id=1448026236672937987, id_str='1448026236672937987', text=\"RT @BStingSTL: Today I had the distinct pleasure of joining @umsl's Language and Cultural Studies Department and campus LGBTQ+ group PRIZM…\", truncated=False, entities={'hashtags': [], 'symbols': [], 'user_mentions': [{'screen_name': 'BStingSTL', 'name': 'Ald. Bill Stephens 🏳️\\u200d🌈', 'id': 369340471, 'id_str': '369340471', 'indices': [3, 13]}, {'screen_name': 'umsl', 'name': 'University of Missouri–St. Louis', 'id': 92316446, 'id_str': '92316446', 'indices': [60, 65]}], 'urls': []}, metadata={'iso_language_code': 'en', 'result_type': 'recent'}, source='Twitter for Android', source_url='http://twitter.com/download/android', in_reply_to_status_id=None, in_reply_to_status_id_str=None, in_reply_to_user_id=None, in_reply_to_user_id_str=None, in_reply_to_screen_name=None, author=User(_json={'id': 935613782876938240, 'id_str': '935613782876938240', 'name': '💥🖕Punisher is Vaccinated 🖕💥', 'screen_name': 'TheRealJTIII', 'location': 'St Louis, MO', 'description': \"I'm a serial retweeter. Vive la résistance!!! #TWD #FearTWD #ChiefsKingdom  #STLCARDS #Resist #TheResistance  #FBR #BlackLivesMatter #BidenHarris2020\", 'url': None, 'entities': {'description': {'urls': []}}, 'protected': False, 'followers_count': 4066, 'friends_count': 4995, 'listed_count': 1, 'created_at': 'Tue Nov 28 20:58:03 +0000 2017', 'favourites_count': 273382, 'utc_offset': None, 'time_zone': None, 'geo_enabled': True, 'verified': False, 'statuses_count': 157472, 'lang': None, 'contributors_enabled': False, 'is_translator': False, 'is_translation_enabled': False, 'profile_background_color': 'F5F8FA', 'profile_background_image_url': None, 'profile_background_image_url_https': None, 'profile_background_tile': False, 'profile_image_url': 'http://pbs.twimg.com/profile_images/936437992532652033/GkTWegD7_normal.jpg', 'profile_image_url_https': 'https://pbs.twimg.com/profile_images/936437992532652033/GkTWegD7_normal.jpg', 'profile_banner_url': 'https://pbs.twimg.com/profile_banners/935613782876938240/1529160227', 'profile_link_color': '1DA1F2', 'profile_sidebar_border_color': 'C0DEED', 'profile_sidebar_fill_color': 'DDEEF6', 'profile_text_color': '333333', 'profile_use_background_image': True, 'has_extended_profile': True, 'default_profile': True, 'default_profile_image': False, 'following': False, 'follow_request_sent': False, 'notifications': False, 'translator_type': 'none', 'withheld_in_countries': []}, id=935613782876938240, id_str='935613782876938240', name='💥🖕Punisher is Vaccinated 🖕💥', screen_name='TheRealJTIII', location='St Louis, MO', description=\"I'm a serial retweeter. Vive la résistance!!! #TWD #FearTWD #ChiefsKingdom  #STLCARDS #Resist #TheResistance  #FBR #BlackLivesMatter #BidenHarris2020\", url=None, entities={'description': {'urls': []}}, protected=False, followers_count=4066, friends_count=4995, listed_count=1, created_at=datetime.datetime(2017, 11, 28, 20, 58, 3), favourites_count=273382, utc_offset=None, time_zone=None, geo_enabled=True, verified=False, statuses_count=157472, lang=None, contributors_enabled=False, is_translator=False, is_translation_enabled=False, profile_background_color='F5F8FA', profile_background_image_url=None, profile_background_image_url_https=None, profile_background_tile=False, profile_image_url='http://pbs.twimg.com/profile_images/936437992532652033/GkTWegD7_normal.jpg', profile_image_url_https='https://pbs.twimg.com/profile_images/936437992532652033/GkTWegD7_normal.jpg', profile_banner_url='https://pbs.twimg.com/profile_banners/935613782876938240/1529160227', profile_link_color='1DA1F2', profile_sidebar_border_color='C0DEED', profile_sidebar_fill_color='DDEEF6', profile_text_color='333333', profile_use_background_image=True, has_extended_profile=True, default_profile=True, default_profile_image=False, following=False, follow_request_sent=False, notifications=False, translator_type='none', withheld_in_countries=[]), user=User(_json={'id': 935613782876938240, 'id_str': '935613782876938240', 'name': '💥🖕Punisher is Vaccinated 🖕💥', 'screen_name': 'TheRealJTIII', 'location': 'St Louis, MO', 'description': \"I'm a serial retweeter. Vive la résistance!!! #TWD #FearTWD #ChiefsKingdom  #STLCARDS #Resist #TheResistance  #FBR #BlackLivesMatter #BidenHarris2020\", 'url': None, 'entities': {'description': {'urls': []}}, 'protected': False, 'followers_count': 4066, 'friends_count': 4995, 'listed_count': 1, 'created_at': 'Tue Nov 28 20:58:03 +0000 2017', 'favourites_count': 273382, 'utc_offset': None, 'time_zone': None, 'geo_enabled': True, 'verified': False, 'statuses_count': 157472, 'lang': None, 'contributors_enabled': False, 'is_translator': False, 'is_translation_enabled': False, 'profile_background_color': 'F5F8FA', 'profile_background_image_url': None, 'profile_background_image_url_https': None, 'profile_background_tile': False, 'profile_image_url': 'http://pbs.twimg.com/profile_images/936437992532652033/GkTWegD7_normal.jpg', 'profile_image_url_https': 'https://pbs.twimg.com/profile_images/936437992532652033/GkTWegD7_normal.jpg', 'profile_banner_url': 'https://pbs.twimg.com/profile_banners/935613782876938240/1529160227', 'profile_link_color': '1DA1F2', 'profile_sidebar_border_color': 'C0DEED', 'profile_sidebar_fill_color': 'DDEEF6', 'profile_text_color': '333333', 'profile_use_background_image': True, 'has_extended_profile': True, 'default_profile': True, 'default_profile_image': False, 'following': False, 'follow_request_sent': False, 'notifications': False, 'translator_type': 'none', 'withheld_in_countries': []}, id=935613782876938240, id_str='935613782876938240', name='💥🖕Punisher is Vaccinated 🖕💥', screen_name='TheRealJTIII', location='St Louis, MO', description=\"I'm a serial retweeter. Vive la résistance!!! #TWD #FearTWD #ChiefsKingdom  #STLCARDS #Resist #TheResistance  #FBR #BlackLivesMatter #BidenHarris2020\", url=None, entities={'description': {'urls': []}}, protected=False, followers_count=4066, friends_count=4995, listed_count=1, created_at=datetime.datetime(2017, 11, 28, 20, 58, 3), favourites_count=273382, utc_offset=None, time_zone=None, geo_enabled=True, verified=False, statuses_count=157472, lang=None, contributors_enabled=False, is_translator=False, is_translation_enabled=False, profile_background_color='F5F8FA', profile_background_image_url=None, profile_background_image_url_https=None, profile_background_tile=False, profile_image_url='http://pbs.twimg.com/profile_images/936437992532652033/GkTWegD7_normal.jpg', profile_image_url_https='https://pbs.twimg.com/profile_images/936437992532652033/GkTWegD7_normal.jpg', profile_banner_url='https://pbs.twimg.com/profile_banners/935613782876938240/1529160227', profile_link_color='1DA1F2', profile_sidebar_border_color='C0DEED', profile_sidebar_fill_color='DDEEF6', profile_text_color='333333', profile_use_background_image=True, has_extended_profile=True, default_profile=True, default_profile_image=False, following=False, follow_request_sent=False, notifications=False, translator_type='none', withheld_in_countries=[]), geo=None, coordinates=None, place=None, contributors=None, retweeted_status=Status(_json={'created_at': 'Tue Oct 12 20:36:39 +0000 2021', 'id': 1448024841232211978, 'id_str': '1448024841232211978', 'text': \"Today I had the distinct pleasure of joining @umsl's Language and Cultural Studies Department and campus LGBTQ+ gro… https://t.co/rEMw8ZtfIM\", 'truncated': True, 'entities': {'hashtags': [], 'symbols': [], 'user_mentions': [{'screen_name': 'umsl', 'name': 'University of Missouri–St. Louis', 'id': 92316446, 'id_str': '92316446', 'indices': [45, 50]}], 'urls': [{'url': 'https://t.co/rEMw8ZtfIM', 'expanded_url': 'https://twitter.com/i/web/status/1448024841232211978', 'display_url': 'twitter.com/i/web/status/1…', 'indices': [117, 140]}]}, 'metadata': {'iso_language_code': 'en', 'result_type': 'recent'}, 'source': '<a href=\"http://twitter.com/download/android\" rel=\"nofollow\">Twitter for Android</a>', 'in_reply_to_status_id': None, 'in_reply_to_status_id_str': None, 'in_reply_to_user_id': None, 'in_reply_to_user_id_str': None, 'in_reply_to_screen_name': None, 'user': {'id': 369340471, 'id_str': '369340471', 'name': 'Ald. Bill Stephens 🏳️\\u200d🌈', 'screen_name': 'BStingSTL', 'location': 'St. Louis, Missouri', 'description': '12th Ward Alderman, St. Louis. Humanist. Archivist, Pride STL; Adviser/Board Member, Growing American Youth;🐝; ΗΣΦ. Fierce Compassion, Radical Empathy. 🏳️\\u200d🌈', 'url': 'https://t.co/otDZrlKZRk', 'entities': {'url': {'urls': [{'url': 'https://t.co/otDZrlKZRk', 'expanded_url': 'https://secure.actblue.com/donate/friends-of-bill-stephens-1?refcode=twitter', 'display_url': 'secure.actblue.com/donate/friends…', 'indices': [0, 23]}]}, 'description': {'urls': []}}, 'protected': False, 'followers_count': 1240, 'friends_count': 301, 'listed_count': 29, 'created_at': 'Wed Sep 07 05:47:58 +0000 2011', 'favourites_count': 11009, 'utc_offset': None, 'time_zone': None, 'geo_enabled': True, 'verified': False, 'statuses_count': 5656, 'lang': None, 'contributors_enabled': False, 'is_translator': False, 'is_translation_enabled': False, 'profile_background_color': '131516', 'profile_background_image_url': 'http://abs.twimg.com/images/themes/theme1/bg.png', 'profile_background_image_url_https': 'https://abs.twimg.com/images/themes/theme1/bg.png', 'profile_background_tile': False, 'profile_image_url': 'http://pbs.twimg.com/profile_images/1319406287873069059/5bFwOofq_normal.jpg', 'profile_image_url_https': 'https://pbs.twimg.com/profile_images/1319406287873069059/5bFwOofq_normal.jpg', 'profile_banner_url': 'https://pbs.twimg.com/profile_banners/369340471/1625718876', 'profile_link_color': '009999', 'profile_sidebar_border_color': 'C0DEED', 'profile_sidebar_fill_color': 'DDEEF6', 'profile_text_color': '333333', 'profile_use_background_image': True, 'has_extended_profile': True, 'default_profile': False, 'default_profile_image': False, 'following': False, 'follow_request_sent': False, 'notifications': False, 'translator_type': 'none', 'withheld_in_countries': []}, 'geo': None, 'coordinates': None, 'place': {'id': '0570f015c264cbd9', 'url': 'https://api.twitter.com/1.1/geo/id/0570f015c264cbd9.json', 'place_type': 'city', 'name': 'St Louis', 'full_name': 'St Louis, MO', 'country_code': 'US', 'country': 'United States', 'contained_within': [], 'bounding_box': {'type': 'Polygon', 'coordinates': [[[-90.3205158, 38.5331934], [-90.175132, 38.5331934], [-90.175132, 38.774349], [-90.3205158, 38.774349]]]}, 'attributes': {}}, 'contributors': None, 'is_quote_status': False, 'retweet_count': 1, 'favorite_count': 2, 'favorited': False, 'retweeted': False, 'lang': 'en'}, created_at=datetime.datetime(2021, 10, 12, 20, 36, 39), id=1448024841232211978, id_str='1448024841232211978', text=\"Today I had the distinct pleasure of joining @umsl's Language and Cultural Studies Department and campus LGBTQ+ gro… https://t.co/rEMw8ZtfIM\", truncated=True, entities={'hashtags': [], 'symbols': [], 'user_mentions': [{'screen_name': 'umsl', 'name': 'University of Missouri–St. Louis', 'id': 92316446, 'id_str': '92316446', 'indices': [45, 50]}], 'urls': [{'url': 'https://t.co/rEMw8ZtfIM', 'expanded_url': 'https://twitter.com/i/web/status/1448024841232211978', 'display_url': 'twitter.com/i/web/status/1…', 'indices': [117, 140]}]}, metadata={'iso_language_code': 'en', 'result_type': 'recent'}, source='Twitter for Android', source_url='http://twitter.com/download/android', in_reply_to_status_id=None, in_reply_to_status_id_str=None, in_reply_to_user_id=None, in_reply_to_user_id_str=None, in_reply_to_screen_name=None, author=User(_json={'id': 369340471, 'id_str': '369340471', 'name': 'Ald. Bill Stephens 🏳️\\u200d🌈', 'screen_name': 'BStingSTL', 'location': 'St. Louis, Missouri', 'description': '12th Ward Alderman, St. Louis. Humanist. Archivist, Pride STL; Adviser/Board Member, Growing American Youth;🐝; ΗΣΦ. Fierce Compassion, Radical Empathy. 🏳️\\u200d🌈', 'url': 'https://t.co/otDZrlKZRk', 'entities': {'url': {'urls': [{'url': 'https://t.co/otDZrlKZRk', 'expanded_url': 'https://secure.actblue.com/donate/friends-of-bill-stephens-1?refcode=twitter', 'display_url': 'secure.actblue.com/donate/friends…', 'indices': [0, 23]}]}, 'description': {'urls': []}}, 'protected': False, 'followers_count': 1240, 'friends_count': 301, 'listed_count': 29, 'created_at': 'Wed Sep 07 05:47:58 +0000 2011', 'favourites_count': 11009, 'utc_offset': None, 'time_zone': None, 'geo_enabled': True, 'verified': False, 'statuses_count': 5656, 'lang': None, 'contributors_enabled': False, 'is_translator': False, 'is_translation_enabled': False, 'profile_background_color': '131516', 'profile_background_image_url': 'http://abs.twimg.com/images/themes/theme1/bg.png', 'profile_background_image_url_https': 'https://abs.twimg.com/images/themes/theme1/bg.png', 'profile_background_tile': False, 'profile_image_url': 'http://pbs.twimg.com/profile_images/1319406287873069059/5bFwOofq_normal.jpg', 'profile_image_url_https': 'https://pbs.twimg.com/profile_images/1319406287873069059/5bFwOofq_normal.jpg', 'profile_banner_url': 'https://pbs.twimg.com/profile_banners/369340471/1625718876', 'profile_link_color': '009999', 'profile_sidebar_border_color': 'C0DEED', 'profile_sidebar_fill_color': 'DDEEF6', 'profile_text_color': '333333', 'profile_use_background_image': True, 'has_extended_profile': True, 'default_profile': False, 'default_profile_image': False, 'following': False, 'follow_request_sent': False, 'notifications': False, 'translator_type': 'none', 'withheld_in_countries': []}, id=369340471, id_str='369340471', name='Ald. Bill Stephens 🏳️\\u200d🌈', screen_name='BStingSTL', location='St. Louis, Missouri', description='12th Ward Alderman, St. Louis. Humanist. Archivist, Pride STL; Adviser/Board Member, Growing American Youth;🐝; ΗΣΦ. Fierce Compassion, Radical Empathy. 🏳️\\u200d🌈', url='https://t.co/otDZrlKZRk', entities={'url': {'urls': [{'url': 'https://t.co/otDZrlKZRk', 'expanded_url': 'https://secure.actblue.com/donate/friends-of-bill-stephens-1?refcode=twitter', 'display_url': 'secure.actblue.com/donate/friends…', 'indices': [0, 23]}]}, 'description': {'urls': []}}, protected=False, followers_count=1240, friends_count=301, listed_count=29, created_at=datetime.datetime(2011, 9, 7, 5, 47, 58), favourites_count=11009, utc_offset=None, time_zone=None, geo_enabled=True, verified=False, statuses_count=5656, lang=None, contributors_enabled=False, is_translator=False, is_translation_enabled=False, profile_background_color='131516', profile_background_image_url='http://abs.twimg.com/images/themes/theme1/bg.png', profile_background_image_url_https='https://abs.twimg.com/images/themes/theme1/bg.png', profile_background_tile=False, profile_image_url='http://pbs.twimg.com/profile_images/1319406287873069059/5bFwOofq_normal.jpg', profile_image_url_https='https://pbs.twimg.com/profile_images/1319406287873069059/5bFwOofq_normal.jpg', profile_banner_url='https://pbs.twimg.com/profile_banners/369340471/1625718876', profile_link_color='009999', profile_sidebar_border_color='C0DEED', profile_sidebar_fill_color='DDEEF6', profile_text_color='333333', profile_use_background_image=True, has_extended_profile=True, default_profile=False, default_profile_image=False, following=False, follow_request_sent=False, notifications=False, translator_type='none', withheld_in_countries=[]), user=User(_json={'id': 369340471, 'id_str': '369340471', 'name': 'Ald. Bill Stephens 🏳️\\u200d🌈', 'screen_name': 'BStingSTL', 'location': 'St. Louis, Missouri', 'description': '12th Ward Alderman, St. Louis. Humanist. Archivist, Pride STL; Adviser/Board Member, Growing American Youth;🐝; ΗΣΦ. Fierce Compassion, Radical Empathy. 🏳️\\u200d🌈', 'url': 'https://t.co/otDZrlKZRk', 'entities': {'url': {'urls': [{'url': 'https://t.co/otDZrlKZRk', 'expanded_url': 'https://secure.actblue.com/donate/friends-of-bill-stephens-1?refcode=twitter', 'display_url': 'secure.actblue.com/donate/friends…', 'indices': [0, 23]}]}, 'description': {'urls': []}}, 'protected': False, 'followers_count': 1240, 'friends_count': 301, 'listed_count': 29, 'created_at': 'Wed Sep 07 05:47:58 +0000 2011', 'favourites_count': 11009, 'utc_offset': None, 'time_zone': None, 'geo_enabled': True, 'verified': False, 'statuses_count': 5656, 'lang': None, 'contributors_enabled': False, 'is_translator': False, 'is_translation_enabled': False, 'profile_background_color': '131516', 'profile_background_image_url': 'http://abs.twimg.com/images/themes/theme1/bg.png', 'profile_background_image_url_https': 'https://abs.twimg.com/images/themes/theme1/bg.png', 'profile_background_tile': False, 'profile_image_url': 'http://pbs.twimg.com/profile_images/1319406287873069059/5bFwOofq_normal.jpg', 'profile_image_url_https': 'https://pbs.twimg.com/profile_images/1319406287873069059/5bFwOofq_normal.jpg', 'profile_banner_url': 'https://pbs.twimg.com/profile_banners/369340471/1625718876', 'profile_link_color': '009999', 'profile_sidebar_border_color': 'C0DEED', 'profile_sidebar_fill_color': 'DDEEF6', 'profile_text_color': '333333', 'profile_use_background_image': True, 'has_extended_profile': True, 'default_profile': False, 'default_profile_image': False, 'following': False, 'follow_request_sent': False, 'notifications': False, 'translator_type': 'none', 'withheld_in_countries': []}, id=369340471, id_str='369340471', name='Ald. Bill Stephens 🏳️\\u200d🌈', screen_name='BStingSTL', location='St. Louis, Missouri', description='12th Ward Alderman, St. Louis. Humanist. Archivist, Pride STL; Adviser/Board Member, Growing American Youth;🐝; ΗΣΦ. Fierce Compassion, Radical Empathy. 🏳️\\u200d🌈', url='https://t.co/otDZrlKZRk', entities={'url': {'urls': [{'url': 'https://t.co/otDZrlKZRk', 'expanded_url': 'https://secure.actblue.com/donate/friends-of-bill-stephens-1?refcode=twitter', 'display_url': 'secure.actblue.com/donate/friends…', 'indices': [0, 23]}]}, 'description': {'urls': []}}, protected=False, followers_count=1240, friends_count=301, listed_count=29, created_at=datetime.datetime(2011, 9, 7, 5, 47, 58), favourites_count=11009, utc_offset=None, time_zone=None, geo_enabled=True, verified=False, statuses_count=5656, lang=None, contributors_enabled=False, is_translator=False, is_translation_enabled=False, profile_background_color='131516', profile_background_image_url='http://abs.twimg.com/images/themes/theme1/bg.png', profile_background_image_url_https='https://abs.twimg.com/images/themes/theme1/bg.png', profile_background_tile=False, profile_image_url='http://pbs.twimg.com/profile_images/1319406287873069059/5bFwOofq_normal.jpg', profile_image_url_https='https://pbs.twimg.com/profile_images/1319406287873069059/5bFwOofq_normal.jpg', profile_banner_url='https://pbs.twimg.com/profile_banners/369340471/1625718876', profile_link_color='009999', profile_sidebar_border_color='C0DEED', profile_sidebar_fill_color='DDEEF6', profile_text_color='333333', profile_use_background_image=True, has_extended_profile=True, default_profile=False, default_profile_image=False, following=False, follow_request_sent=False, notifications=False, translator_type='none', withheld_in_countries=[]), geo=None, coordinates=None, place=Place(id='0570f015c264cbd9', url='https://api.twitter.com/1.1/geo/id/0570f015c264cbd9.json', place_type='city', name='St Louis', full_name='St Louis, MO', country_code='US', country='United States', contained_within=[], bounding_box=BoundingBox(type='Polygon', coordinates=[[[-90.3205158, 38.5331934], [-90.175132, 38.5331934], [-90.175132, 38.774349], [-90.3205158, 38.774349]]]), attributes={}), contributors=None, is_quote_status=False, retweet_count=1, favorite_count=2, favorited=False, retweeted=False, lang='en'), is_quote_status=False, retweet_count=1, favorite_count=0, favorited=False, retweeted=False, lang='en')"
      ]
     },
     "execution_count": 48,
     "metadata": {},
     "output_type": "execute_result"
    }
   ],
   "source": [
    "tweets[0]"
   ]
  },
  {
   "cell_type": "code",
   "execution_count": 49,
   "id": "e73c3808-768f-4ca1-bca8-ebd661a33dfd",
   "metadata": {},
   "outputs": [],
   "source": [
    "tweet_create=[]"
   ]
  },
  {
   "cell_type": "code",
   "execution_count": 50,
   "id": "001f8511-2817-4bc4-a530-ccc737ae2ae7",
   "metadata": {},
   "outputs": [],
   "source": [
    "tweet_id=[]"
   ]
  },
  {
   "cell_type": "code",
   "execution_count": 51,
   "id": "2fe49f3a-3efb-499c-baf9-63f42828e7af",
   "metadata": {},
   "outputs": [],
   "source": [
    "tweet_text=[]"
   ]
  },
  {
   "cell_type": "code",
   "execution_count": 52,
   "id": "eea03a75-393c-4291-bafe-b63af67bd011",
   "metadata": {},
   "outputs": [],
   "source": [
    "for i in range(0, len(tweets)):\n",
    "    tweet_create.append(tweets[i]._json['created_at'])"
   ]
  },
  {
   "cell_type": "code",
   "execution_count": 53,
   "id": "3a8b1251-e735-4687-b38a-b3abfcb44611",
   "metadata": {},
   "outputs": [],
   "source": [
    "for i in range(0, len(tweets)):\n",
    "    tweet_id.append(tweets[i]._json['id'])"
   ]
  },
  {
   "cell_type": "code",
   "execution_count": 54,
   "id": "4fd0212b-31f8-4db3-8f4b-86f6c0432b2a",
   "metadata": {},
   "outputs": [],
   "source": [
    "for i in range(0, len(tweets)):\n",
    "    tweet_text.append(tweets[i]._json['text'])"
   ]
  },
  {
   "cell_type": "code",
   "execution_count": 55,
   "id": "81d0af9b-72be-4e30-9150-4512d4a62dd2",
   "metadata": {},
   "outputs": [],
   "source": [
    "data=pd.DataFrame()"
   ]
  },
  {
   "cell_type": "code",
   "execution_count": 56,
   "id": "8c86a425-d035-4a09-ac92-cc6bbb6e54d8",
   "metadata": {},
   "outputs": [],
   "source": [
    "data['tweet_create']=tweet_create"
   ]
  },
  {
   "cell_type": "code",
   "execution_count": 57,
   "id": "f81fe8a4-746b-42b2-8f4a-efd8cc5bf199",
   "metadata": {},
   "outputs": [
    {
     "data": {
      "text/html": [
       "<div>\n",
       "<style scoped>\n",
       "    .dataframe tbody tr th:only-of-type {\n",
       "        vertical-align: middle;\n",
       "    }\n",
       "\n",
       "    .dataframe tbody tr th {\n",
       "        vertical-align: top;\n",
       "    }\n",
       "\n",
       "    .dataframe thead th {\n",
       "        text-align: right;\n",
       "    }\n",
       "</style>\n",
       "<table border=\"1\" class=\"dataframe\">\n",
       "  <thead>\n",
       "    <tr style=\"text-align: right;\">\n",
       "      <th></th>\n",
       "      <th>tweet_create</th>\n",
       "    </tr>\n",
       "  </thead>\n",
       "  <tbody>\n",
       "    <tr>\n",
       "      <th>0</th>\n",
       "      <td>Tue Oct 12 20:42:12 +0000 2021</td>\n",
       "    </tr>\n",
       "    <tr>\n",
       "      <th>1</th>\n",
       "      <td>Tue Oct 12 20:36:39 +0000 2021</td>\n",
       "    </tr>\n",
       "    <tr>\n",
       "      <th>2</th>\n",
       "      <td>Tue Oct 12 20:31:46 +0000 2021</td>\n",
       "    </tr>\n",
       "    <tr>\n",
       "      <th>3</th>\n",
       "      <td>Tue Oct 12 20:02:05 +0000 2021</td>\n",
       "    </tr>\n",
       "    <tr>\n",
       "      <th>4</th>\n",
       "      <td>Tue Oct 12 20:02:01 +0000 2021</td>\n",
       "    </tr>\n",
       "    <tr>\n",
       "      <th>5</th>\n",
       "      <td>Tue Oct 12 20:00:49 +0000 2021</td>\n",
       "    </tr>\n",
       "    <tr>\n",
       "      <th>6</th>\n",
       "      <td>Tue Oct 12 20:00:17 +0000 2021</td>\n",
       "    </tr>\n",
       "    <tr>\n",
       "      <th>7</th>\n",
       "      <td>Tue Oct 12 19:48:43 +0000 2021</td>\n",
       "    </tr>\n",
       "    <tr>\n",
       "      <th>8</th>\n",
       "      <td>Tue Oct 12 19:46:58 +0000 2021</td>\n",
       "    </tr>\n",
       "    <tr>\n",
       "      <th>9</th>\n",
       "      <td>Tue Oct 12 19:13:37 +0000 2021</td>\n",
       "    </tr>\n",
       "    <tr>\n",
       "      <th>10</th>\n",
       "      <td>Tue Oct 12 19:12:46 +0000 2021</td>\n",
       "    </tr>\n",
       "    <tr>\n",
       "      <th>11</th>\n",
       "      <td>Tue Oct 12 19:12:09 +0000 2021</td>\n",
       "    </tr>\n",
       "    <tr>\n",
       "      <th>12</th>\n",
       "      <td>Tue Oct 12 19:02:52 +0000 2021</td>\n",
       "    </tr>\n",
       "    <tr>\n",
       "      <th>13</th>\n",
       "      <td>Tue Oct 12 19:00:00 +0000 2021</td>\n",
       "    </tr>\n",
       "    <tr>\n",
       "      <th>14</th>\n",
       "      <td>Tue Oct 12 18:59:30 +0000 2021</td>\n",
       "    </tr>\n",
       "  </tbody>\n",
       "</table>\n",
       "</div>"
      ],
      "text/plain": [
       "                      tweet_create\n",
       "0   Tue Oct 12 20:42:12 +0000 2021\n",
       "1   Tue Oct 12 20:36:39 +0000 2021\n",
       "2   Tue Oct 12 20:31:46 +0000 2021\n",
       "3   Tue Oct 12 20:02:05 +0000 2021\n",
       "4   Tue Oct 12 20:02:01 +0000 2021\n",
       "5   Tue Oct 12 20:00:49 +0000 2021\n",
       "6   Tue Oct 12 20:00:17 +0000 2021\n",
       "7   Tue Oct 12 19:48:43 +0000 2021\n",
       "8   Tue Oct 12 19:46:58 +0000 2021\n",
       "9   Tue Oct 12 19:13:37 +0000 2021\n",
       "10  Tue Oct 12 19:12:46 +0000 2021\n",
       "11  Tue Oct 12 19:12:09 +0000 2021\n",
       "12  Tue Oct 12 19:02:52 +0000 2021\n",
       "13  Tue Oct 12 19:00:00 +0000 2021\n",
       "14  Tue Oct 12 18:59:30 +0000 2021"
      ]
     },
     "execution_count": 57,
     "metadata": {},
     "output_type": "execute_result"
    }
   ],
   "source": [
    "data"
   ]
  },
  {
   "cell_type": "code",
   "execution_count": 58,
   "id": "7464ad06-666d-4dcf-99ee-be38b96baac6",
   "metadata": {},
   "outputs": [],
   "source": [
    "data['tweet_id']=tweet_id"
   ]
  },
  {
   "cell_type": "code",
   "execution_count": 59,
   "id": "a69ced75-f431-4d97-af88-73db7254eed8",
   "metadata": {},
   "outputs": [
    {
     "data": {
      "text/html": [
       "<div>\n",
       "<style scoped>\n",
       "    .dataframe tbody tr th:only-of-type {\n",
       "        vertical-align: middle;\n",
       "    }\n",
       "\n",
       "    .dataframe tbody tr th {\n",
       "        vertical-align: top;\n",
       "    }\n",
       "\n",
       "    .dataframe thead th {\n",
       "        text-align: right;\n",
       "    }\n",
       "</style>\n",
       "<table border=\"1\" class=\"dataframe\">\n",
       "  <thead>\n",
       "    <tr style=\"text-align: right;\">\n",
       "      <th></th>\n",
       "      <th>tweet_create</th>\n",
       "      <th>tweet_id</th>\n",
       "    </tr>\n",
       "  </thead>\n",
       "  <tbody>\n",
       "    <tr>\n",
       "      <th>0</th>\n",
       "      <td>Tue Oct 12 20:42:12 +0000 2021</td>\n",
       "      <td>1448026236672937987</td>\n",
       "    </tr>\n",
       "    <tr>\n",
       "      <th>1</th>\n",
       "      <td>Tue Oct 12 20:36:39 +0000 2021</td>\n",
       "      <td>1448024841232211978</td>\n",
       "    </tr>\n",
       "    <tr>\n",
       "      <th>2</th>\n",
       "      <td>Tue Oct 12 20:31:46 +0000 2021</td>\n",
       "      <td>1448023609658810378</td>\n",
       "    </tr>\n",
       "    <tr>\n",
       "      <th>3</th>\n",
       "      <td>Tue Oct 12 20:02:05 +0000 2021</td>\n",
       "      <td>1448016140035260419</td>\n",
       "    </tr>\n",
       "    <tr>\n",
       "      <th>4</th>\n",
       "      <td>Tue Oct 12 20:02:01 +0000 2021</td>\n",
       "      <td>1448016123589443587</td>\n",
       "    </tr>\n",
       "    <tr>\n",
       "      <th>5</th>\n",
       "      <td>Tue Oct 12 20:00:49 +0000 2021</td>\n",
       "      <td>1448015822325223427</td>\n",
       "    </tr>\n",
       "    <tr>\n",
       "      <th>6</th>\n",
       "      <td>Tue Oct 12 20:00:17 +0000 2021</td>\n",
       "      <td>1448015688237518850</td>\n",
       "    </tr>\n",
       "    <tr>\n",
       "      <th>7</th>\n",
       "      <td>Tue Oct 12 19:48:43 +0000 2021</td>\n",
       "      <td>1448012777797259264</td>\n",
       "    </tr>\n",
       "    <tr>\n",
       "      <th>8</th>\n",
       "      <td>Tue Oct 12 19:46:58 +0000 2021</td>\n",
       "      <td>1448012334870536198</td>\n",
       "    </tr>\n",
       "    <tr>\n",
       "      <th>9</th>\n",
       "      <td>Tue Oct 12 19:13:37 +0000 2021</td>\n",
       "      <td>1448003943016144898</td>\n",
       "    </tr>\n",
       "    <tr>\n",
       "      <th>10</th>\n",
       "      <td>Tue Oct 12 19:12:46 +0000 2021</td>\n",
       "      <td>1448003730721460225</td>\n",
       "    </tr>\n",
       "    <tr>\n",
       "      <th>11</th>\n",
       "      <td>Tue Oct 12 19:12:09 +0000 2021</td>\n",
       "      <td>1448003573300748294</td>\n",
       "    </tr>\n",
       "    <tr>\n",
       "      <th>12</th>\n",
       "      <td>Tue Oct 12 19:02:52 +0000 2021</td>\n",
       "      <td>1448001238159687683</td>\n",
       "    </tr>\n",
       "    <tr>\n",
       "      <th>13</th>\n",
       "      <td>Tue Oct 12 19:00:00 +0000 2021</td>\n",
       "      <td>1448000517427253248</td>\n",
       "    </tr>\n",
       "    <tr>\n",
       "      <th>14</th>\n",
       "      <td>Tue Oct 12 18:59:30 +0000 2021</td>\n",
       "      <td>1448000390524461061</td>\n",
       "    </tr>\n",
       "  </tbody>\n",
       "</table>\n",
       "</div>"
      ],
      "text/plain": [
       "                      tweet_create             tweet_id\n",
       "0   Tue Oct 12 20:42:12 +0000 2021  1448026236672937987\n",
       "1   Tue Oct 12 20:36:39 +0000 2021  1448024841232211978\n",
       "2   Tue Oct 12 20:31:46 +0000 2021  1448023609658810378\n",
       "3   Tue Oct 12 20:02:05 +0000 2021  1448016140035260419\n",
       "4   Tue Oct 12 20:02:01 +0000 2021  1448016123589443587\n",
       "5   Tue Oct 12 20:00:49 +0000 2021  1448015822325223427\n",
       "6   Tue Oct 12 20:00:17 +0000 2021  1448015688237518850\n",
       "7   Tue Oct 12 19:48:43 +0000 2021  1448012777797259264\n",
       "8   Tue Oct 12 19:46:58 +0000 2021  1448012334870536198\n",
       "9   Tue Oct 12 19:13:37 +0000 2021  1448003943016144898\n",
       "10  Tue Oct 12 19:12:46 +0000 2021  1448003730721460225\n",
       "11  Tue Oct 12 19:12:09 +0000 2021  1448003573300748294\n",
       "12  Tue Oct 12 19:02:52 +0000 2021  1448001238159687683\n",
       "13  Tue Oct 12 19:00:00 +0000 2021  1448000517427253248\n",
       "14  Tue Oct 12 18:59:30 +0000 2021  1448000390524461061"
      ]
     },
     "execution_count": 59,
     "metadata": {},
     "output_type": "execute_result"
    }
   ],
   "source": [
    "data"
   ]
  },
  {
   "cell_type": "code",
   "execution_count": 60,
   "id": "299f4cb7-799c-49e2-b20f-5ea15d6880cd",
   "metadata": {},
   "outputs": [],
   "source": [
    "data['tweet_text']=tweet_text"
   ]
  },
  {
   "cell_type": "code",
   "execution_count": 61,
   "id": "79c905e7-9a3d-4923-9d58-ffc2011b7bc9",
   "metadata": {},
   "outputs": [
    {
     "data": {
      "text/html": [
       "<div>\n",
       "<style scoped>\n",
       "    .dataframe tbody tr th:only-of-type {\n",
       "        vertical-align: middle;\n",
       "    }\n",
       "\n",
       "    .dataframe tbody tr th {\n",
       "        vertical-align: top;\n",
       "    }\n",
       "\n",
       "    .dataframe thead th {\n",
       "        text-align: right;\n",
       "    }\n",
       "</style>\n",
       "<table border=\"1\" class=\"dataframe\">\n",
       "  <thead>\n",
       "    <tr style=\"text-align: right;\">\n",
       "      <th></th>\n",
       "      <th>tweet_create</th>\n",
       "      <th>tweet_id</th>\n",
       "      <th>tweet_text</th>\n",
       "    </tr>\n",
       "  </thead>\n",
       "  <tbody>\n",
       "    <tr>\n",
       "      <th>0</th>\n",
       "      <td>Tue Oct 12 20:42:12 +0000 2021</td>\n",
       "      <td>1448026236672937987</td>\n",
       "      <td>RT @BStingSTL: Today I had the distinct pleasu...</td>\n",
       "    </tr>\n",
       "    <tr>\n",
       "      <th>1</th>\n",
       "      <td>Tue Oct 12 20:36:39 +0000 2021</td>\n",
       "      <td>1448024841232211978</td>\n",
       "      <td>Today I had the distinct pleasure of joining @...</td>\n",
       "    </tr>\n",
       "    <tr>\n",
       "      <th>2</th>\n",
       "      <td>Tue Oct 12 20:31:46 +0000 2021</td>\n",
       "      <td>1448023609658810378</td>\n",
       "      <td>Shredding accounts are consolidating across ca...</td>\n",
       "    </tr>\n",
       "    <tr>\n",
       "      <th>3</th>\n",
       "      <td>Tue Oct 12 20:02:05 +0000 2021</td>\n",
       "      <td>1448016140035260419</td>\n",
       "      <td>Lindsay, a super senior studying Engineering a...</td>\n",
       "    </tr>\n",
       "    <tr>\n",
       "      <th>4</th>\n",
       "      <td>Tue Oct 12 20:02:01 +0000 2021</td>\n",
       "      <td>1448016123589443587</td>\n",
       "      <td>As part of our recruiting efforts, UMSL be hos...</td>\n",
       "    </tr>\n",
       "    <tr>\n",
       "      <th>5</th>\n",
       "      <td>Tue Oct 12 20:00:49 +0000 2021</td>\n",
       "      <td>1448015822325223427</td>\n",
       "      <td>RT @GLVCsports: 🏃‍♂️🏃‍♀️ It's a sweep for @usi...</td>\n",
       "    </tr>\n",
       "    <tr>\n",
       "      <th>6</th>\n",
       "      <td>Tue Oct 12 20:00:17 +0000 2021</td>\n",
       "      <td>1448015688237518850</td>\n",
       "      <td>Lions and Tigers and Bears, oh my!  (And Saint...</td>\n",
       "    </tr>\n",
       "    <tr>\n",
       "      <th>7</th>\n",
       "      <td>Tue Oct 12 19:48:43 +0000 2021</td>\n",
       "      <td>1448012777797259264</td>\n",
       "      <td>RT @j_cobbina: Grateful to be the recipient of...</td>\n",
       "    </tr>\n",
       "    <tr>\n",
       "      <th>8</th>\n",
       "      <td>Tue Oct 12 19:46:58 +0000 2021</td>\n",
       "      <td>1448012334870536198</td>\n",
       "      <td>RT @MattyNoonz11: Beyond excited to be one of ...</td>\n",
       "    </tr>\n",
       "    <tr>\n",
       "      <th>9</th>\n",
       "      <td>Tue Oct 12 19:13:37 +0000 2021</td>\n",
       "      <td>1448003943016144898</td>\n",
       "      <td>RT @EWhitteck: @Marietmora @umsl @womeninhighe...</td>\n",
       "    </tr>\n",
       "    <tr>\n",
       "      <th>10</th>\n",
       "      <td>Tue Oct 12 19:12:46 +0000 2021</td>\n",
       "      <td>1448003730721460225</td>\n",
       "      <td>RT @MO_MilAdvocate: @NGA_GEOINT and @umsl rece...</td>\n",
       "    </tr>\n",
       "    <tr>\n",
       "      <th>11</th>\n",
       "      <td>Tue Oct 12 19:12:09 +0000 2021</td>\n",
       "      <td>1448003573300748294</td>\n",
       "      <td>@Marietmora @umsl @womeninhighered Thanks @Mar...</td>\n",
       "    </tr>\n",
       "    <tr>\n",
       "      <th>12</th>\n",
       "      <td>Tue Oct 12 19:02:52 +0000 2021</td>\n",
       "      <td>1448001238159687683</td>\n",
       "      <td>RT @UMSLHonors: This Wednesday at 4PM, join Je...</td>\n",
       "    </tr>\n",
       "    <tr>\n",
       "      <th>13</th>\n",
       "      <td>Tue Oct 12 19:00:00 +0000 2021</td>\n",
       "      <td>1448000517427253248</td>\n",
       "      <td>This Wednesday at 4PM, join Jenna Haddock, our...</td>\n",
       "    </tr>\n",
       "    <tr>\n",
       "      <th>14</th>\n",
       "      <td>Tue Oct 12 18:59:30 +0000 2021</td>\n",
       "      <td>1448000390524461061</td>\n",
       "      <td>RT @risestl: Rise and the St. Louis Regional D...</td>\n",
       "    </tr>\n",
       "  </tbody>\n",
       "</table>\n",
       "</div>"
      ],
      "text/plain": [
       "                      tweet_create             tweet_id  \\\n",
       "0   Tue Oct 12 20:42:12 +0000 2021  1448026236672937987   \n",
       "1   Tue Oct 12 20:36:39 +0000 2021  1448024841232211978   \n",
       "2   Tue Oct 12 20:31:46 +0000 2021  1448023609658810378   \n",
       "3   Tue Oct 12 20:02:05 +0000 2021  1448016140035260419   \n",
       "4   Tue Oct 12 20:02:01 +0000 2021  1448016123589443587   \n",
       "5   Tue Oct 12 20:00:49 +0000 2021  1448015822325223427   \n",
       "6   Tue Oct 12 20:00:17 +0000 2021  1448015688237518850   \n",
       "7   Tue Oct 12 19:48:43 +0000 2021  1448012777797259264   \n",
       "8   Tue Oct 12 19:46:58 +0000 2021  1448012334870536198   \n",
       "9   Tue Oct 12 19:13:37 +0000 2021  1448003943016144898   \n",
       "10  Tue Oct 12 19:12:46 +0000 2021  1448003730721460225   \n",
       "11  Tue Oct 12 19:12:09 +0000 2021  1448003573300748294   \n",
       "12  Tue Oct 12 19:02:52 +0000 2021  1448001238159687683   \n",
       "13  Tue Oct 12 19:00:00 +0000 2021  1448000517427253248   \n",
       "14  Tue Oct 12 18:59:30 +0000 2021  1448000390524461061   \n",
       "\n",
       "                                           tweet_text  \n",
       "0   RT @BStingSTL: Today I had the distinct pleasu...  \n",
       "1   Today I had the distinct pleasure of joining @...  \n",
       "2   Shredding accounts are consolidating across ca...  \n",
       "3   Lindsay, a super senior studying Engineering a...  \n",
       "4   As part of our recruiting efforts, UMSL be hos...  \n",
       "5   RT @GLVCsports: 🏃‍♂️🏃‍♀️ It's a sweep for @usi...  \n",
       "6   Lions and Tigers and Bears, oh my!  (And Saint...  \n",
       "7   RT @j_cobbina: Grateful to be the recipient of...  \n",
       "8   RT @MattyNoonz11: Beyond excited to be one of ...  \n",
       "9   RT @EWhitteck: @Marietmora @umsl @womeninhighe...  \n",
       "10  RT @MO_MilAdvocate: @NGA_GEOINT and @umsl rece...  \n",
       "11  @Marietmora @umsl @womeninhighered Thanks @Mar...  \n",
       "12  RT @UMSLHonors: This Wednesday at 4PM, join Je...  \n",
       "13  This Wednesday at 4PM, join Jenna Haddock, our...  \n",
       "14  RT @risestl: Rise and the St. Louis Regional D...  "
      ]
     },
     "execution_count": 61,
     "metadata": {},
     "output_type": "execute_result"
    }
   ],
   "source": [
    "data"
   ]
  },
  {
   "cell_type": "code",
   "execution_count": 62,
   "id": "b88149d5-cd2b-40aa-bdfe-036121121d2f",
   "metadata": {},
   "outputs": [],
   "source": [
    "data.to_excel('UMSL_Tweets.xlsx',index=False)"
   ]
  },
  {
   "cell_type": "code",
   "execution_count": null,
   "id": "8885726e-f6a6-4e7c-9857-6754115c837c",
   "metadata": {},
   "outputs": [],
   "source": []
  }
 ],
 "metadata": {
  "kernelspec": {
   "display_name": "Python 3 (ipykernel)",
   "language": "python",
   "name": "python3"
  },
  "language_info": {
   "codemirror_mode": {
    "name": "ipython",
    "version": 3
   },
   "file_extension": ".py",
   "mimetype": "text/x-python",
   "name": "python",
   "nbconvert_exporter": "python",
   "pygments_lexer": "ipython3",
   "version": "3.12.7"
  }
 },
 "nbformat": 4,
 "nbformat_minor": 5
}
